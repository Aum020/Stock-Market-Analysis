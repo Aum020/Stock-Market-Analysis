{
 "cells": [
  {
   "cell_type": "code",
   "execution_count": 1,
   "id": "recent-double",
   "metadata": {},
   "outputs": [],
   "source": [
    "import numpy as np\n",
    "import pandas as pd\n",
    "import matplotlib.pyplot as plt\n",
    "import seaborn as sns\n",
    "sns.set_style('whitegrid')\n",
    "%matplotlib inline"
   ]
  },
  {
   "cell_type": "code",
   "execution_count": 2,
   "id": "quarterly-reflection",
   "metadata": {},
   "outputs": [
    {
     "data": {
      "text/html": [
       "<div>\n",
       "<style scoped>\n",
       "    .dataframe tbody tr th:only-of-type {\n",
       "        vertical-align: middle;\n",
       "    }\n",
       "\n",
       "    .dataframe tbody tr th {\n",
       "        vertical-align: top;\n",
       "    }\n",
       "\n",
       "    .dataframe thead th {\n",
       "        text-align: right;\n",
       "    }\n",
       "</style>\n",
       "<table border=\"1\" class=\"dataframe\">\n",
       "  <thead>\n",
       "    <tr style=\"text-align: right;\">\n",
       "      <th></th>\n",
       "      <th>Date</th>\n",
       "      <th>Price</th>\n",
       "      <th>Open</th>\n",
       "      <th>High</th>\n",
       "      <th>Low</th>\n",
       "      <th>Vol.</th>\n",
       "      <th>Change %</th>\n",
       "    </tr>\n",
       "  </thead>\n",
       "  <tbody>\n",
       "    <tr>\n",
       "      <th>0</th>\n",
       "      <td>Jan 29, 2021</td>\n",
       "      <td>17,060.00</td>\n",
       "      <td>17,385.05</td>\n",
       "      <td>17,467.85</td>\n",
       "      <td>16,961.30</td>\n",
       "      <td>112890</td>\n",
       "      <td>-1.88%</td>\n",
       "    </tr>\n",
       "    <tr>\n",
       "      <th>1</th>\n",
       "      <td>Jan 28, 2021</td>\n",
       "      <td>17,387.65</td>\n",
       "      <td>17,470.00</td>\n",
       "      <td>17,520.00</td>\n",
       "      <td>17,203.00</td>\n",
       "      <td>89060</td>\n",
       "      <td>-0.86%</td>\n",
       "    </tr>\n",
       "    <tr>\n",
       "      <th>2</th>\n",
       "      <td>Jan 27, 2021</td>\n",
       "      <td>17,538.10</td>\n",
       "      <td>17,472.95</td>\n",
       "      <td>17,597.70</td>\n",
       "      <td>17,340.25</td>\n",
       "      <td>66400</td>\n",
       "      <td>0.71%</td>\n",
       "    </tr>\n",
       "    <tr>\n",
       "      <th>3</th>\n",
       "      <td>Jan 25, 2021</td>\n",
       "      <td>17,415.25</td>\n",
       "      <td>17,652.00</td>\n",
       "      <td>17,700.00</td>\n",
       "      <td>17,229.85</td>\n",
       "      <td>116440</td>\n",
       "      <td>-0.99%</td>\n",
       "    </tr>\n",
       "    <tr>\n",
       "      <th>4</th>\n",
       "      <td>Jan 22, 2021</td>\n",
       "      <td>17,589.60</td>\n",
       "      <td>17,784.00</td>\n",
       "      <td>17,882.30</td>\n",
       "      <td>17,550.00</td>\n",
       "      <td>98250</td>\n",
       "      <td>-0.72%</td>\n",
       "    </tr>\n",
       "    <tr>\n",
       "      <th>...</th>\n",
       "      <td>...</td>\n",
       "      <td>...</td>\n",
       "      <td>...</td>\n",
       "      <td>...</td>\n",
       "      <td>...</td>\n",
       "      <td>...</td>\n",
       "      <td>...</td>\n",
       "    </tr>\n",
       "    <tr>\n",
       "      <th>56</th>\n",
       "      <td>Nov 06, 2020</td>\n",
       "      <td>17,006.65</td>\n",
       "      <td>17,240.00</td>\n",
       "      <td>17,279.85</td>\n",
       "      <td>16,903.10</td>\n",
       "      <td>119000</td>\n",
       "      <td>-1.25%</td>\n",
       "    </tr>\n",
       "    <tr>\n",
       "      <th>57</th>\n",
       "      <td>Nov 05, 2020</td>\n",
       "      <td>17,221.30</td>\n",
       "      <td>17,100.00</td>\n",
       "      <td>17,399.00</td>\n",
       "      <td>17,020.80</td>\n",
       "      <td>101750</td>\n",
       "      <td>1.32%</td>\n",
       "    </tr>\n",
       "    <tr>\n",
       "      <th>58</th>\n",
       "      <td>Nov 04, 2020</td>\n",
       "      <td>16,997.10</td>\n",
       "      <td>17,000.00</td>\n",
       "      <td>17,200.00</td>\n",
       "      <td>16,825.00</td>\n",
       "      <td>97910</td>\n",
       "      <td>0.62%</td>\n",
       "    </tr>\n",
       "    <tr>\n",
       "      <th>59</th>\n",
       "      <td>Nov 03, 2020</td>\n",
       "      <td>16,892.50</td>\n",
       "      <td>17,239.00</td>\n",
       "      <td>17,269.95</td>\n",
       "      <td>16,760.00</td>\n",
       "      <td>104740</td>\n",
       "      <td>-1.30%</td>\n",
       "    </tr>\n",
       "    <tr>\n",
       "      <th>60</th>\n",
       "      <td>Nov 02, 2020</td>\n",
       "      <td>17,114.95</td>\n",
       "      <td>17,201.00</td>\n",
       "      <td>17,360.00</td>\n",
       "      <td>16,940.00</td>\n",
       "      <td>84760</td>\n",
       "      <td>-0.27%</td>\n",
       "    </tr>\n",
       "  </tbody>\n",
       "</table>\n",
       "<p>61 rows × 7 columns</p>\n",
       "</div>"
      ],
      "text/plain": [
       "            Date      Price       Open       High        Low    Vol. Change %\n",
       "0   Jan 29, 2021  17,060.00  17,385.05  17,467.85  16,961.30  112890   -1.88%\n",
       "1   Jan 28, 2021  17,387.65  17,470.00  17,520.00  17,203.00   89060   -0.86%\n",
       "2   Jan 27, 2021  17,538.10  17,472.95  17,597.70  17,340.25   66400    0.71%\n",
       "3   Jan 25, 2021  17,415.25  17,652.00  17,700.00  17,229.85  116440   -0.99%\n",
       "4   Jan 22, 2021  17,589.60  17,784.00  17,882.30  17,550.00   98250   -0.72%\n",
       "..           ...        ...        ...        ...        ...     ...      ...\n",
       "56  Nov 06, 2020  17,006.65  17,240.00  17,279.85  16,903.10  119000   -1.25%\n",
       "57  Nov 05, 2020  17,221.30  17,100.00  17,399.00  17,020.80  101750    1.32%\n",
       "58  Nov 04, 2020  16,997.10  17,000.00  17,200.00  16,825.00   97910    0.62%\n",
       "59  Nov 03, 2020  16,892.50  17,239.00  17,269.95  16,760.00  104740   -1.30%\n",
       "60  Nov 02, 2020  17,114.95  17,201.00  17,360.00  16,940.00   84760   -0.27%\n",
       "\n",
       "[61 rows x 7 columns]"
      ]
     },
     "execution_count": 2,
     "metadata": {},
     "output_type": "execute_result"
    }
   ],
   "source": [
    "df = pd.read_csv('Project_Nestle.csv')\n",
    "df"
   ]
  },
  {
   "cell_type": "code",
   "execution_count": 3,
   "id": "healthy-dominant",
   "metadata": {},
   "outputs": [
    {
     "name": "stdout",
     "output_type": "stream",
     "text": [
      "<class 'pandas.core.frame.DataFrame'>\n",
      "RangeIndex: 61 entries, 0 to 60\n",
      "Data columns (total 7 columns):\n",
      " #   Column    Non-Null Count  Dtype \n",
      "---  ------    --------------  ----- \n",
      " 0   Date      61 non-null     object\n",
      " 1   Price     61 non-null     object\n",
      " 2   Open      61 non-null     object\n",
      " 3   High      61 non-null     object\n",
      " 4   Low       61 non-null     object\n",
      " 5   Vol.      61 non-null     int64 \n",
      " 6   Change %  61 non-null     object\n",
      "dtypes: int64(1), object(6)\n",
      "memory usage: 3.5+ KB\n"
     ]
    }
   ],
   "source": [
    "df.info()"
   ]
  },
  {
   "cell_type": "code",
   "execution_count": 9,
   "id": "productive-checklist",
   "metadata": {},
   "outputs": [],
   "source": [
    "df[['Price','Open','High','Low','Change %']] = df[['Price','Open','High','Low','Change %']].replace({',':'','%':''},regex = True)\n",
    "df[['Price','Open','High','Low','Change %']] = df[['Price','Open','High','Low','Change %']].apply(pd.to_numeric)"
   ]
  },
  {
   "cell_type": "code",
   "execution_count": 10,
   "id": "matched-sigma",
   "metadata": {},
   "outputs": [
    {
     "data": {
      "text/html": [
       "<div>\n",
       "<style scoped>\n",
       "    .dataframe tbody tr th:only-of-type {\n",
       "        vertical-align: middle;\n",
       "    }\n",
       "\n",
       "    .dataframe tbody tr th {\n",
       "        vertical-align: top;\n",
       "    }\n",
       "\n",
       "    .dataframe thead th {\n",
       "        text-align: right;\n",
       "    }\n",
       "</style>\n",
       "<table border=\"1\" class=\"dataframe\">\n",
       "  <thead>\n",
       "    <tr style=\"text-align: right;\">\n",
       "      <th></th>\n",
       "      <th>Date</th>\n",
       "      <th>Price</th>\n",
       "      <th>Open</th>\n",
       "      <th>High</th>\n",
       "      <th>Low</th>\n",
       "      <th>Vol.</th>\n",
       "      <th>Change %</th>\n",
       "    </tr>\n",
       "  </thead>\n",
       "  <tbody>\n",
       "    <tr>\n",
       "      <th>0</th>\n",
       "      <td>Jan 29, 2021</td>\n",
       "      <td>17060.00</td>\n",
       "      <td>17385.05</td>\n",
       "      <td>17467.85</td>\n",
       "      <td>16961.30</td>\n",
       "      <td>112890</td>\n",
       "      <td>-1.88</td>\n",
       "    </tr>\n",
       "    <tr>\n",
       "      <th>1</th>\n",
       "      <td>Jan 28, 2021</td>\n",
       "      <td>17387.65</td>\n",
       "      <td>17470.00</td>\n",
       "      <td>17520.00</td>\n",
       "      <td>17203.00</td>\n",
       "      <td>89060</td>\n",
       "      <td>-0.86</td>\n",
       "    </tr>\n",
       "    <tr>\n",
       "      <th>2</th>\n",
       "      <td>Jan 27, 2021</td>\n",
       "      <td>17538.10</td>\n",
       "      <td>17472.95</td>\n",
       "      <td>17597.70</td>\n",
       "      <td>17340.25</td>\n",
       "      <td>66400</td>\n",
       "      <td>0.71</td>\n",
       "    </tr>\n",
       "    <tr>\n",
       "      <th>3</th>\n",
       "      <td>Jan 25, 2021</td>\n",
       "      <td>17415.25</td>\n",
       "      <td>17652.00</td>\n",
       "      <td>17700.00</td>\n",
       "      <td>17229.85</td>\n",
       "      <td>116440</td>\n",
       "      <td>-0.99</td>\n",
       "    </tr>\n",
       "    <tr>\n",
       "      <th>4</th>\n",
       "      <td>Jan 22, 2021</td>\n",
       "      <td>17589.60</td>\n",
       "      <td>17784.00</td>\n",
       "      <td>17882.30</td>\n",
       "      <td>17550.00</td>\n",
       "      <td>98250</td>\n",
       "      <td>-0.72</td>\n",
       "    </tr>\n",
       "    <tr>\n",
       "      <th>...</th>\n",
       "      <td>...</td>\n",
       "      <td>...</td>\n",
       "      <td>...</td>\n",
       "      <td>...</td>\n",
       "      <td>...</td>\n",
       "      <td>...</td>\n",
       "      <td>...</td>\n",
       "    </tr>\n",
       "    <tr>\n",
       "      <th>56</th>\n",
       "      <td>Nov 06, 2020</td>\n",
       "      <td>17006.65</td>\n",
       "      <td>17240.00</td>\n",
       "      <td>17279.85</td>\n",
       "      <td>16903.10</td>\n",
       "      <td>119000</td>\n",
       "      <td>-1.25</td>\n",
       "    </tr>\n",
       "    <tr>\n",
       "      <th>57</th>\n",
       "      <td>Nov 05, 2020</td>\n",
       "      <td>17221.30</td>\n",
       "      <td>17100.00</td>\n",
       "      <td>17399.00</td>\n",
       "      <td>17020.80</td>\n",
       "      <td>101750</td>\n",
       "      <td>1.32</td>\n",
       "    </tr>\n",
       "    <tr>\n",
       "      <th>58</th>\n",
       "      <td>Nov 04, 2020</td>\n",
       "      <td>16997.10</td>\n",
       "      <td>17000.00</td>\n",
       "      <td>17200.00</td>\n",
       "      <td>16825.00</td>\n",
       "      <td>97910</td>\n",
       "      <td>0.62</td>\n",
       "    </tr>\n",
       "    <tr>\n",
       "      <th>59</th>\n",
       "      <td>Nov 03, 2020</td>\n",
       "      <td>16892.50</td>\n",
       "      <td>17239.00</td>\n",
       "      <td>17269.95</td>\n",
       "      <td>16760.00</td>\n",
       "      <td>104740</td>\n",
       "      <td>-1.30</td>\n",
       "    </tr>\n",
       "    <tr>\n",
       "      <th>60</th>\n",
       "      <td>Nov 02, 2020</td>\n",
       "      <td>17114.95</td>\n",
       "      <td>17201.00</td>\n",
       "      <td>17360.00</td>\n",
       "      <td>16940.00</td>\n",
       "      <td>84760</td>\n",
       "      <td>-0.27</td>\n",
       "    </tr>\n",
       "  </tbody>\n",
       "</table>\n",
       "<p>61 rows × 7 columns</p>\n",
       "</div>"
      ],
      "text/plain": [
       "            Date     Price      Open      High       Low    Vol.  Change %\n",
       "0   Jan 29, 2021  17060.00  17385.05  17467.85  16961.30  112890     -1.88\n",
       "1   Jan 28, 2021  17387.65  17470.00  17520.00  17203.00   89060     -0.86\n",
       "2   Jan 27, 2021  17538.10  17472.95  17597.70  17340.25   66400      0.71\n",
       "3   Jan 25, 2021  17415.25  17652.00  17700.00  17229.85  116440     -0.99\n",
       "4   Jan 22, 2021  17589.60  17784.00  17882.30  17550.00   98250     -0.72\n",
       "..           ...       ...       ...       ...       ...     ...       ...\n",
       "56  Nov 06, 2020  17006.65  17240.00  17279.85  16903.10  119000     -1.25\n",
       "57  Nov 05, 2020  17221.30  17100.00  17399.00  17020.80  101750      1.32\n",
       "58  Nov 04, 2020  16997.10  17000.00  17200.00  16825.00   97910      0.62\n",
       "59  Nov 03, 2020  16892.50  17239.00  17269.95  16760.00  104740     -1.30\n",
       "60  Nov 02, 2020  17114.95  17201.00  17360.00  16940.00   84760     -0.27\n",
       "\n",
       "[61 rows x 7 columns]"
      ]
     },
     "execution_count": 10,
     "metadata": {},
     "output_type": "execute_result"
    }
   ],
   "source": [
    "df"
   ]
  },
  {
   "cell_type": "code",
   "execution_count": 11,
   "id": "industrial-tulsa",
   "metadata": {},
   "outputs": [
    {
     "name": "stdout",
     "output_type": "stream",
     "text": [
      "<class 'pandas.core.frame.DataFrame'>\n",
      "RangeIndex: 61 entries, 0 to 60\n",
      "Data columns (total 7 columns):\n",
      " #   Column    Non-Null Count  Dtype  \n",
      "---  ------    --------------  -----  \n",
      " 0   Date      61 non-null     object \n",
      " 1   Price     61 non-null     float64\n",
      " 2   Open      61 non-null     float64\n",
      " 3   High      61 non-null     float64\n",
      " 4   Low       61 non-null     float64\n",
      " 5   Vol.      61 non-null     int64  \n",
      " 6   Change %  61 non-null     float64\n",
      "dtypes: float64(5), int64(1), object(1)\n",
      "memory usage: 3.5+ KB\n"
     ]
    }
   ],
   "source": [
    "df.info()"
   ]
  },
  {
   "cell_type": "code",
   "execution_count": 13,
   "id": "usual-smoke",
   "metadata": {},
   "outputs": [
    {
     "name": "stdout",
     "output_type": "stream",
     "text": [
      "<class 'pandas.core.frame.DataFrame'>\n",
      "RangeIndex: 61 entries, 0 to 60\n",
      "Data columns (total 7 columns):\n",
      " #   Column    Non-Null Count  Dtype         \n",
      "---  ------    --------------  -----         \n",
      " 0   Date      61 non-null     datetime64[ns]\n",
      " 1   Price     61 non-null     float64       \n",
      " 2   Open      61 non-null     float64       \n",
      " 3   High      61 non-null     float64       \n",
      " 4   Low       61 non-null     float64       \n",
      " 5   Vol.      61 non-null     int64         \n",
      " 6   Change %  61 non-null     float64       \n",
      "dtypes: datetime64[ns](1), float64(5), int64(1)\n",
      "memory usage: 3.5 KB\n"
     ]
    }
   ],
   "source": [
    "df['Date'] = pd.to_datetime(df['Date'])\n",
    "df.info()"
   ]
  },
  {
   "cell_type": "code",
   "execution_count": 14,
   "id": "mounted-subcommittee",
   "metadata": {},
   "outputs": [
    {
     "data": {
      "image/png": "[encoded data removed]",
      "text/plain": [
       "<Figure size 432x288 with 1 Axes>"
      ]
     },
     "metadata": {
      "needs_background": "light"
     },
     "output_type": "display_data"
    }
   ],
   "source": [
    "ax = df['Price'].plot(legend = True,label='Price')\n",
    "ax.set_xlabel('Date')\n",
    "ax.set_ylabel('Price of the stock')\n",
    "plt.show()"
   ]
  },
  {
   "cell_type": "code",
   "execution_count": 15,
   "id": "concerned-diabetes",
   "metadata": {},
   "outputs": [
    {
     "data": {
      "image/png": "[encoded data removed]",
      "text/plain": [
       "<Figure size 432x288 with 1 Axes>"
      ]
     },
     "metadata": {
      "needs_background": "light"
     },
     "output_type": "display_data"
    }
   ],
   "source": [
    "ax1 = df['Change %'].plot(legend = True, label = 'Percentage Change')\n",
    "ax1.set_xlabel('Date')\n",
    "ax1.set_ylabel('Percentage of Change(Volatility)')\n",
    "plt.show()"
   ]
  },
  {
   "cell_type": "code",
   "execution_count": 16,
   "id": "solved-williams",
   "metadata": {},
   "outputs": [
    {
     "data": {
      "image/png": "[encoded data removed]",
      "text/plain": [
       "<Figure size 432x288 with 1 Axes>"
      ]
     },
     "metadata": {
      "needs_background": "light"
     },
     "output_type": "display_data"
    }
   ],
   "source": [
    "plt.bar(df.Date,df['Vol.'])\n",
    "plt.show()"
   ]
  },
  {
   "cell_type": "code",
   "execution_count": null,
   "id": "blank-rogers",
   "metadata": {},
   "outputs": [],
   "source": []
  }
 ],
 "metadata": {
  "kernelspec": {
   "display_name": "Python 3",
   "language": "python",
   "name": "python3"
  },
  "language_info": {
   "codemirror_mode": {
    "name": "ipython",
    "version": 3
   },
   "file_extension": ".py",
   "mimetype": "text/x-python",
   "name": "python",
   "nbconvert_exporter": "python",
   "pygments_lexer": "ipython3",
   "version": "3.8.5"
  }
 },
 "nbformat": 4,
 "nbformat_minor": 5
}
