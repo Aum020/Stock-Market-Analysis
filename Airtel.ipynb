{
 "cells": [
  {
   "cell_type": "code",
   "execution_count": 1,
   "id": "about-vision",
   "metadata": {},
   "outputs": [],
   "source": [
    "import numpy as np\n",
    "import pandas as pd\n",
    "import matplotlib.pyplot as plt\n",
    "import seaborn as sns\n",
    "sns.set_style('whitegrid')\n",
    "%matplotlib inline"
   ]
  },
  {
   "cell_type": "code",
   "execution_count": 2,
   "id": "russian-undergraduate",
   "metadata": {},
   "outputs": [],
   "source": [
    "from datetime import datetime\n",
    "from __future__ import division\n",
    "df = pd.read_csv('Project_Airtel.csv')"
   ]
  },
  {
   "cell_type": "code",
   "execution_count": 3,
   "id": "devoted-participant",
   "metadata": {},
   "outputs": [],
   "source": [
    "df['Vol.'] = df['Vol.']/1000"
   ]
  },
  {
   "cell_type": "code",
   "execution_count": 4,
   "id": "seventh-screen",
   "metadata": {},
   "outputs": [
    {
     "data": {
      "text/html": [
       "<div>\n",
       "<style scoped>\n",
       "    .dataframe tbody tr th:only-of-type {\n",
       "        vertical-align: middle;\n",
       "    }\n",
       "\n",
       "    .dataframe tbody tr th {\n",
       "        vertical-align: top;\n",
       "    }\n",
       "\n",
       "    .dataframe thead th {\n",
       "        text-align: right;\n",
       "    }\n",
       "</style>\n",
       "<table border=\"1\" class=\"dataframe\">\n",
       "  <thead>\n",
       "    <tr style=\"text-align: right;\">\n",
       "      <th></th>\n",
       "      <th>Date</th>\n",
       "      <th>Price</th>\n",
       "      <th>Open</th>\n",
       "      <th>High</th>\n",
       "      <th>Low</th>\n",
       "      <th>Vol.</th>\n",
       "      <th>Change %</th>\n",
       "    </tr>\n",
       "  </thead>\n",
       "  <tbody>\n",
       "    <tr>\n",
       "      <th>0</th>\n",
       "      <td>Jan 29, 2021</td>\n",
       "      <td>553.60</td>\n",
       "      <td>578.5</td>\n",
       "      <td>578.50</td>\n",
       "      <td>550.60</td>\n",
       "      <td>25050.0</td>\n",
       "      <td>-3.03%</td>\n",
       "    </tr>\n",
       "    <tr>\n",
       "      <th>1</th>\n",
       "      <td>Jan 28, 2021</td>\n",
       "      <td>570.90</td>\n",
       "      <td>566.5</td>\n",
       "      <td>575.85</td>\n",
       "      <td>562.75</td>\n",
       "      <td>14920.0</td>\n",
       "      <td>0.02%</td>\n",
       "    </tr>\n",
       "    <tr>\n",
       "      <th>2</th>\n",
       "      <td>Jan 27, 2021</td>\n",
       "      <td>570.80</td>\n",
       "      <td>580.0</td>\n",
       "      <td>581.75</td>\n",
       "      <td>562.35</td>\n",
       "      <td>15280.0</td>\n",
       "      <td>-1.71%</td>\n",
       "    </tr>\n",
       "    <tr>\n",
       "      <th>3</th>\n",
       "      <td>Jan 25, 2021</td>\n",
       "      <td>580.75</td>\n",
       "      <td>579.0</td>\n",
       "      <td>587.85</td>\n",
       "      <td>569.55</td>\n",
       "      <td>12270.0</td>\n",
       "      <td>0.68%</td>\n",
       "    </tr>\n",
       "    <tr>\n",
       "      <th>4</th>\n",
       "      <td>Jan 22, 2021</td>\n",
       "      <td>576.85</td>\n",
       "      <td>583.9</td>\n",
       "      <td>585.55</td>\n",
       "      <td>572.75</td>\n",
       "      <td>12430.0</td>\n",
       "      <td>-0.77%</td>\n",
       "    </tr>\n",
       "    <tr>\n",
       "      <th>...</th>\n",
       "      <td>...</td>\n",
       "      <td>...</td>\n",
       "      <td>...</td>\n",
       "      <td>...</td>\n",
       "      <td>...</td>\n",
       "      <td>...</td>\n",
       "      <td>...</td>\n",
       "    </tr>\n",
       "    <tr>\n",
       "      <th>56</th>\n",
       "      <td>Nov 06, 2020</td>\n",
       "      <td>449.90</td>\n",
       "      <td>457.0</td>\n",
       "      <td>460.35</td>\n",
       "      <td>448.75</td>\n",
       "      <td>11970.0</td>\n",
       "      <td>-1.62%</td>\n",
       "    </tr>\n",
       "    <tr>\n",
       "      <th>57</th>\n",
       "      <td>Nov 05, 2020</td>\n",
       "      <td>457.30</td>\n",
       "      <td>457.0</td>\n",
       "      <td>461.90</td>\n",
       "      <td>452.60</td>\n",
       "      <td>9230.0</td>\n",
       "      <td>0.94%</td>\n",
       "    </tr>\n",
       "    <tr>\n",
       "      <th>58</th>\n",
       "      <td>Nov 04, 2020</td>\n",
       "      <td>453.05</td>\n",
       "      <td>453.0</td>\n",
       "      <td>455.55</td>\n",
       "      <td>447.15</td>\n",
       "      <td>10000.0</td>\n",
       "      <td>-0.34%</td>\n",
       "    </tr>\n",
       "    <tr>\n",
       "      <th>59</th>\n",
       "      <td>Nov 03, 2020</td>\n",
       "      <td>454.60</td>\n",
       "      <td>458.0</td>\n",
       "      <td>460.70</td>\n",
       "      <td>447.45</td>\n",
       "      <td>16040.0</td>\n",
       "      <td>-0.61%</td>\n",
       "    </tr>\n",
       "    <tr>\n",
       "      <th>60</th>\n",
       "      <td>Nov 02, 2020</td>\n",
       "      <td>457.40</td>\n",
       "      <td>435.0</td>\n",
       "      <td>460.00</td>\n",
       "      <td>435.00</td>\n",
       "      <td>28170.0</td>\n",
       "      <td>5.45%</td>\n",
       "    </tr>\n",
       "  </tbody>\n",
       "</table>\n",
       "<p>61 rows × 7 columns</p>\n",
       "</div>"
      ],
      "text/plain": [
       "            Date   Price   Open    High     Low     Vol. Change %\n",
       "0   Jan 29, 2021  553.60  578.5  578.50  550.60  25050.0   -3.03%\n",
       "1   Jan 28, 2021  570.90  566.5  575.85  562.75  14920.0    0.02%\n",
       "2   Jan 27, 2021  570.80  580.0  581.75  562.35  15280.0   -1.71%\n",
       "3   Jan 25, 2021  580.75  579.0  587.85  569.55  12270.0    0.68%\n",
       "4   Jan 22, 2021  576.85  583.9  585.55  572.75  12430.0   -0.77%\n",
       "..           ...     ...    ...     ...     ...      ...      ...\n",
       "56  Nov 06, 2020  449.90  457.0  460.35  448.75  11970.0   -1.62%\n",
       "57  Nov 05, 2020  457.30  457.0  461.90  452.60   9230.0    0.94%\n",
       "58  Nov 04, 2020  453.05  453.0  455.55  447.15  10000.0   -0.34%\n",
       "59  Nov 03, 2020  454.60  458.0  460.70  447.45  16040.0   -0.61%\n",
       "60  Nov 02, 2020  457.40  435.0  460.00  435.00  28170.0    5.45%\n",
       "\n",
       "[61 rows x 7 columns]"
      ]
     },
     "execution_count": 4,
     "metadata": {},
     "output_type": "execute_result"
    }
   ],
   "source": [
    "df"
   ]
  },
  {
   "cell_type": "code",
   "execution_count": 5,
   "id": "seasonal-spread",
   "metadata": {},
   "outputs": [],
   "source": [
    "df['Date'] = pd.to_datetime(df.Date)"
   ]
  },
  {
   "cell_type": "code",
   "execution_count": 6,
   "id": "nonprofit-rebecca",
   "metadata": {},
   "outputs": [],
   "source": [
    "df2 = df[[\"Date\",\"Price\",\"Open\",\"High\",\"Low\", \"Vol.\"]]\n",
    "df2 = df2.loc[:,[\"Date\",\"Price\",\"Open\",\"High\",\"Low\", \"Vol.\"]]"
   ]
  },
  {
   "cell_type": "code",
   "execution_count": 7,
   "id": "respective-wagon",
   "metadata": {},
   "outputs": [
    {
     "data": {
      "text/html": [
       "<div>\n",
       "<style scoped>\n",
       "    .dataframe tbody tr th:only-of-type {\n",
       "        vertical-align: middle;\n",
       "    }\n",
       "\n",
       "    .dataframe tbody tr th {\n",
       "        vertical-align: top;\n",
       "    }\n",
       "\n",
       "    .dataframe thead th {\n",
       "        text-align: right;\n",
       "    }\n",
       "</style>\n",
       "<table border=\"1\" class=\"dataframe\">\n",
       "  <thead>\n",
       "    <tr style=\"text-align: right;\">\n",
       "      <th></th>\n",
       "      <th>Price</th>\n",
       "      <th>Open</th>\n",
       "      <th>High</th>\n",
       "      <th>Low</th>\n",
       "      <th>Vol.</th>\n",
       "    </tr>\n",
       "    <tr>\n",
       "      <th>Date</th>\n",
       "      <th></th>\n",
       "      <th></th>\n",
       "      <th></th>\n",
       "      <th></th>\n",
       "      <th></th>\n",
       "    </tr>\n",
       "  </thead>\n",
       "  <tbody>\n",
       "    <tr>\n",
       "      <th>2021-01-29</th>\n",
       "      <td>553.60</td>\n",
       "      <td>578.5</td>\n",
       "      <td>578.50</td>\n",
       "      <td>550.60</td>\n",
       "      <td>25050.0</td>\n",
       "    </tr>\n",
       "    <tr>\n",
       "      <th>2021-01-28</th>\n",
       "      <td>570.90</td>\n",
       "      <td>566.5</td>\n",
       "      <td>575.85</td>\n",
       "      <td>562.75</td>\n",
       "      <td>14920.0</td>\n",
       "    </tr>\n",
       "    <tr>\n",
       "      <th>2021-01-27</th>\n",
       "      <td>570.80</td>\n",
       "      <td>580.0</td>\n",
       "      <td>581.75</td>\n",
       "      <td>562.35</td>\n",
       "      <td>15280.0</td>\n",
       "    </tr>\n",
       "    <tr>\n",
       "      <th>2021-01-25</th>\n",
       "      <td>580.75</td>\n",
       "      <td>579.0</td>\n",
       "      <td>587.85</td>\n",
       "      <td>569.55</td>\n",
       "      <td>12270.0</td>\n",
       "    </tr>\n",
       "    <tr>\n",
       "      <th>2021-01-22</th>\n",
       "      <td>576.85</td>\n",
       "      <td>583.9</td>\n",
       "      <td>585.55</td>\n",
       "      <td>572.75</td>\n",
       "      <td>12430.0</td>\n",
       "    </tr>\n",
       "    <tr>\n",
       "      <th>...</th>\n",
       "      <td>...</td>\n",
       "      <td>...</td>\n",
       "      <td>...</td>\n",
       "      <td>...</td>\n",
       "      <td>...</td>\n",
       "    </tr>\n",
       "    <tr>\n",
       "      <th>2020-11-06</th>\n",
       "      <td>449.90</td>\n",
       "      <td>457.0</td>\n",
       "      <td>460.35</td>\n",
       "      <td>448.75</td>\n",
       "      <td>11970.0</td>\n",
       "    </tr>\n",
       "    <tr>\n",
       "      <th>2020-11-05</th>\n",
       "      <td>457.30</td>\n",
       "      <td>457.0</td>\n",
       "      <td>461.90</td>\n",
       "      <td>452.60</td>\n",
       "      <td>9230.0</td>\n",
       "    </tr>\n",
       "    <tr>\n",
       "      <th>2020-11-04</th>\n",
       "      <td>453.05</td>\n",
       "      <td>453.0</td>\n",
       "      <td>455.55</td>\n",
       "      <td>447.15</td>\n",
       "      <td>10000.0</td>\n",
       "    </tr>\n",
       "    <tr>\n",
       "      <th>2020-11-03</th>\n",
       "      <td>454.60</td>\n",
       "      <td>458.0</td>\n",
       "      <td>460.70</td>\n",
       "      <td>447.45</td>\n",
       "      <td>16040.0</td>\n",
       "    </tr>\n",
       "    <tr>\n",
       "      <th>2020-11-02</th>\n",
       "      <td>457.40</td>\n",
       "      <td>435.0</td>\n",
       "      <td>460.00</td>\n",
       "      <td>435.00</td>\n",
       "      <td>28170.0</td>\n",
       "    </tr>\n",
       "  </tbody>\n",
       "</table>\n",
       "<p>61 rows × 5 columns</p>\n",
       "</div>"
      ],
      "text/plain": [
       "             Price   Open    High     Low     Vol.\n",
       "Date                                              \n",
       "2021-01-29  553.60  578.5  578.50  550.60  25050.0\n",
       "2021-01-28  570.90  566.5  575.85  562.75  14920.0\n",
       "2021-01-27  570.80  580.0  581.75  562.35  15280.0\n",
       "2021-01-25  580.75  579.0  587.85  569.55  12270.0\n",
       "2021-01-22  576.85  583.9  585.55  572.75  12430.0\n",
       "...            ...    ...     ...     ...      ...\n",
       "2020-11-06  449.90  457.0  460.35  448.75  11970.0\n",
       "2020-11-05  457.30  457.0  461.90  452.60   9230.0\n",
       "2020-11-04  453.05  453.0  455.55  447.15  10000.0\n",
       "2020-11-03  454.60  458.0  460.70  447.45  16040.0\n",
       "2020-11-02  457.40  435.0  460.00  435.00  28170.0\n",
       "\n",
       "[61 rows x 5 columns]"
      ]
     },
     "execution_count": 7,
     "metadata": {},
     "output_type": "execute_result"
    }
   ],
   "source": [
    "df2 = df2.set_index(\"Date\")\n",
    "df2"
   ]
  },
  {
   "cell_type": "code",
   "execution_count": 8,
   "id": "nuclear-assurance",
   "metadata": {},
   "outputs": [
    {
     "data": {
      "text/html": [
       "<div>\n",
       "<style scoped>\n",
       "    .dataframe tbody tr th:only-of-type {\n",
       "        vertical-align: middle;\n",
       "    }\n",
       "\n",
       "    .dataframe tbody tr th {\n",
       "        vertical-align: top;\n",
       "    }\n",
       "\n",
       "    .dataframe thead th {\n",
       "        text-align: right;\n",
       "    }\n",
       "</style>\n",
       "<table border=\"1\" class=\"dataframe\">\n",
       "  <thead>\n",
       "    <tr style=\"text-align: right;\">\n",
       "      <th></th>\n",
       "      <th>Price</th>\n",
       "      <th>Open</th>\n",
       "      <th>High</th>\n",
       "      <th>Low</th>\n",
       "      <th>Vol.</th>\n",
       "    </tr>\n",
       "  </thead>\n",
       "  <tbody>\n",
       "    <tr>\n",
       "      <th>count</th>\n",
       "      <td>61.000000</td>\n",
       "      <td>61.000000</td>\n",
       "      <td>61.000000</td>\n",
       "      <td>61.000000</td>\n",
       "      <td>61.000000</td>\n",
       "    </tr>\n",
       "    <tr>\n",
       "      <th>mean</th>\n",
       "      <td>512.195082</td>\n",
       "      <td>513.107377</td>\n",
       "      <td>519.311475</td>\n",
       "      <td>504.392623</td>\n",
       "      <td>17847.213115</td>\n",
       "    </tr>\n",
       "    <tr>\n",
       "      <th>std</th>\n",
       "      <td>42.236600</td>\n",
       "      <td>44.467088</td>\n",
       "      <td>44.103445</td>\n",
       "      <td>42.305210</td>\n",
       "      <td>11694.235493</td>\n",
       "    </tr>\n",
       "    <tr>\n",
       "      <th>min</th>\n",
       "      <td>449.900000</td>\n",
       "      <td>435.000000</td>\n",
       "      <td>455.550000</td>\n",
       "      <td>435.000000</td>\n",
       "      <td>8270.000000</td>\n",
       "    </tr>\n",
       "    <tr>\n",
       "      <th>25%</th>\n",
       "      <td>478.600000</td>\n",
       "      <td>477.000000</td>\n",
       "      <td>483.200000</td>\n",
       "      <td>471.100000</td>\n",
       "      <td>11610.000000</td>\n",
       "    </tr>\n",
       "    <tr>\n",
       "      <th>50%</th>\n",
       "      <td>505.150000</td>\n",
       "      <td>507.000000</td>\n",
       "      <td>511.200000</td>\n",
       "      <td>499.100000</td>\n",
       "      <td>14510.000000</td>\n",
       "    </tr>\n",
       "    <tr>\n",
       "      <th>75%</th>\n",
       "      <td>540.250000</td>\n",
       "      <td>532.000000</td>\n",
       "      <td>549.750000</td>\n",
       "      <td>527.100000</td>\n",
       "      <td>19650.000000</td>\n",
       "    </tr>\n",
       "    <tr>\n",
       "      <th>max</th>\n",
       "      <td>602.650000</td>\n",
       "      <td>609.550000</td>\n",
       "      <td>610.650000</td>\n",
       "      <td>593.800000</td>\n",
       "      <td>83670.000000</td>\n",
       "    </tr>\n",
       "  </tbody>\n",
       "</table>\n",
       "</div>"
      ],
      "text/plain": [
       "            Price        Open        High         Low          Vol.\n",
       "count   61.000000   61.000000   61.000000   61.000000     61.000000\n",
       "mean   512.195082  513.107377  519.311475  504.392623  17847.213115\n",
       "std     42.236600   44.467088   44.103445   42.305210  11694.235493\n",
       "min    449.900000  435.000000  455.550000  435.000000   8270.000000\n",
       "25%    478.600000  477.000000  483.200000  471.100000  11610.000000\n",
       "50%    505.150000  507.000000  511.200000  499.100000  14510.000000\n",
       "75%    540.250000  532.000000  549.750000  527.100000  19650.000000\n",
       "max    602.650000  609.550000  610.650000  593.800000  83670.000000"
      ]
     },
     "execution_count": 8,
     "metadata": {},
     "output_type": "execute_result"
    }
   ],
   "source": [
    "df2.describe()"
   ]
  },
  {
   "cell_type": "code",
   "execution_count": 9,
   "id": "disabled-member",
   "metadata": {},
   "outputs": [
    {
     "data": {
      "text/plain": [
       "<AxesSubplot:xlabel='Date'>"
      ]
     },
     "execution_count": 9,
     "metadata": {},
     "output_type": "execute_result"
    },
    {
     "data": {
      "image/png": "[encoded data removed]",
      "text/plain": [
       "<Figure size 720x288 with 1 Axes>"
      ]
     },
     "metadata": {
      "needs_background": "light"
     },
     "output_type": "display_data"
    }
   ],
   "source": [
    "df2['Price'].plot(legend = True,figsize = (10,4))"
   ]
  },
  {
   "cell_type": "code",
   "execution_count": 10,
   "id": "cooked-memory",
   "metadata": {},
   "outputs": [
    {
     "data": {
      "text/plain": [
       "<AxesSubplot:xlabel='Date'>"
      ]
     },
     "execution_count": 10,
     "metadata": {},
     "output_type": "execute_result"
    },
    {
     "data": {
      "image/png": "[encoded data removed]",
      "text/plain": [
       "<Figure size 720x288 with 1 Axes>"
      ]
     },
     "metadata": {
      "needs_background": "light"
     },
     "output_type": "display_data"
    }
   ],
   "source": [
    "df2['Vol.'].plot(legend = True, figsize = (10,4))"
   ]
  },
  {
   "cell_type": "code",
   "execution_count": 16,
   "id": "breathing-presence",
   "metadata": {},
   "outputs": [
    {
     "data": {
      "image/png": "[encoded data removed]",
      "text/plain": [
       "<Figure size 432x288 with 1 Axes>"
      ]
     },
     "metadata": {
      "needs_background": "light"
     },
     "output_type": "display_data"
    }
   ],
   "source": [
    "fig = plt.figure()\n",
    "ax = fig.add_axes([0,0,1,1])\n",
    "ax.bar(df.Date,df['Vol.'])\n",
    "plt.show()"
   ]
  },
  {
   "cell_type": "code",
   "execution_count": null,
   "id": "cooked-tender",
   "metadata": {},
   "outputs": [],
   "source": []
  }
 ],
 "metadata": {
  "kernelspec": {
   "display_name": "Python 3",
   "language": "python",
   "name": "python3"
  },
  "language_info": {
   "codemirror_mode": {
    "name": "ipython",
    "version": 3
   },
   "file_extension": ".py",
   "mimetype": "text/x-python",
   "name": "python",
   "nbconvert_exporter": "python",
   "pygments_lexer": "ipython3",
   "version": "3.8.5"
  }
 },
 "nbformat": 4,
 "nbformat_minor": 5
}
