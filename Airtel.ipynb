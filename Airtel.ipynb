{
 "cells": [
  {
   "cell_type": "code",
   "execution_count": 2,
   "id": "about-vision",
   "metadata": {},
   "outputs": [],
   "source": [
    "import numpy as np\n",
    "import pandas as pd\n",
    "import matplotlib.pyplot as plt\n",
    "import seaborn as sns\n",
    "sns.set_style('whitegrid')\n",
    "%matplotlib inline"
   ]
  },
  {
   "cell_type": "code",
   "execution_count": 3,
   "id": "russian-undergraduate",
   "metadata": {},
   "outputs": [
    {
     "data": {
      "text/plain": "          Date        Open        High         Low       Close   Adj Close  \\\n0   2020-11-02  435.000000  460.000000  435.000000  457.399994  457.399994   \n1   2020-11-03  458.000000  460.700012  447.450012  454.600006  454.600006   \n2   2020-11-04  453.000000  455.549988  447.149994  453.049988  453.049988   \n3   2020-11-05  457.000000  461.899994  452.600006  457.299988  457.299988   \n4   2020-11-06  457.000000  460.350006  448.750000  449.899994  449.899994   \n..         ...         ...         ...         ...         ...         ...   \n56  2021-01-22  583.900024  585.549988  572.750000  576.849976  576.849976   \n57  2021-01-25  579.000000  587.849976  569.549988  580.750000  580.750000   \n58  2021-01-27  580.000000  581.750000  562.349976  570.799988  570.799988   \n59  2021-01-28  566.500000  575.849976  562.750000  570.900024  570.900024   \n60  2021-01-29  578.500000  578.500000  550.599976  553.599976  553.599976   \n\n      Volume  \n0   28174600  \n1   16036760  \n2   10003680  \n3    9234395  \n4   11970462  \n..       ...  \n56  12429589  \n57  12273498  \n58  15280757  \n59  14921448  \n60  25051621  \n\n[61 rows x 7 columns]",
      "text/html": "<div>\n<style scoped>\n    .dataframe tbody tr th:only-of-type {\n        vertical-align: middle;\n    }\n\n    .dataframe tbody tr th {\n        vertical-align: top;\n    }\n\n    .dataframe thead th {\n        text-align: right;\n    }\n</style>\n<table border=\"1\" class=\"dataframe\">\n  <thead>\n    <tr style=\"text-align: right;\">\n      <th></th>\n      <th>Date</th>\n      <th>Open</th>\n      <th>High</th>\n      <th>Low</th>\n      <th>Close</th>\n      <th>Adj Close</th>\n      <th>Volume</th>\n    </tr>\n  </thead>\n  <tbody>\n    <tr>\n      <th>0</th>\n      <td>2020-11-02</td>\n      <td>435.000000</td>\n      <td>460.000000</td>\n      <td>435.000000</td>\n      <td>457.399994</td>\n      <td>457.399994</td>\n      <td>28174600</td>\n    </tr>\n    <tr>\n      <th>1</th>\n      <td>2020-11-03</td>\n      <td>458.000000</td>\n      <td>460.700012</td>\n      <td>447.450012</td>\n      <td>454.600006</td>\n      <td>454.600006</td>\n      <td>16036760</td>\n    </tr>\n    <tr>\n      <th>2</th>\n      <td>2020-11-04</td>\n      <td>453.000000</td>\n      <td>455.549988</td>\n      <td>447.149994</td>\n      <td>453.049988</td>\n      <td>453.049988</td>\n      <td>10003680</td>\n    </tr>\n    <tr>\n      <th>3</th>\n      <td>2020-11-05</td>\n      <td>457.000000</td>\n      <td>461.899994</td>\n      <td>452.600006</td>\n      <td>457.299988</td>\n      <td>457.299988</td>\n      <td>9234395</td>\n    </tr>\n    <tr>\n      <th>4</th>\n      <td>2020-11-06</td>\n      <td>457.000000</td>\n      <td>460.350006</td>\n      <td>448.750000</td>\n      <td>449.899994</td>\n      <td>449.899994</td>\n      <td>11970462</td>\n    </tr>\n    <tr>\n      <th>...</th>\n      <td>...</td>\n      <td>...</td>\n      <td>...</td>\n      <td>...</td>\n      <td>...</td>\n      <td>...</td>\n      <td>...</td>\n    </tr>\n    <tr>\n      <th>56</th>\n      <td>2021-01-22</td>\n      <td>583.900024</td>\n      <td>585.549988</td>\n      <td>572.750000</td>\n      <td>576.849976</td>\n      <td>576.849976</td>\n      <td>12429589</td>\n    </tr>\n    <tr>\n      <th>57</th>\n      <td>2021-01-25</td>\n      <td>579.000000</td>\n      <td>587.849976</td>\n      <td>569.549988</td>\n      <td>580.750000</td>\n      <td>580.750000</td>\n      <td>12273498</td>\n    </tr>\n    <tr>\n      <th>58</th>\n      <td>2021-01-27</td>\n      <td>580.000000</td>\n      <td>581.750000</td>\n      <td>562.349976</td>\n      <td>570.799988</td>\n      <td>570.799988</td>\n      <td>15280757</td>\n    </tr>\n    <tr>\n      <th>59</th>\n      <td>2021-01-28</td>\n      <td>566.500000</td>\n      <td>575.849976</td>\n      <td>562.750000</td>\n      <td>570.900024</td>\n      <td>570.900024</td>\n      <td>14921448</td>\n    </tr>\n    <tr>\n      <th>60</th>\n      <td>2021-01-29</td>\n      <td>578.500000</td>\n      <td>578.500000</td>\n      <td>550.599976</td>\n      <td>553.599976</td>\n      <td>553.599976</td>\n      <td>25051621</td>\n    </tr>\n  </tbody>\n</table>\n<p>61 rows × 7 columns</p>\n</div>"
     },
     "execution_count": 3,
     "metadata": {},
     "output_type": "execute_result"
    }
   ],
   "source": [
    "from datetime import datetime\n",
    "from __future__ import division\n",
    "df = pd.read_csv(\"https://raw.githubusercontent.com/Aum020/Stock-Market-Analysis/master/Datasets/BHARTIARTL.NS.csv?token=AOAVBUECK7YH6DZQSAW6263AO3IKY\")\n",
    "df"
   ]
  },
  {
   "cell_type": "code",
   "execution_count": 4,
   "id": "devoted-participant",
   "metadata": {},
   "outputs": [],
   "source": [
    "df['Volume'] = df['Volume']/1000"
   ]
  },
  {
   "cell_type": "code",
   "execution_count": 4,
   "id": "seventh-screen",
   "metadata": {},
   "outputs": [],
   "source": []
  },
  {
   "cell_type": "code",
   "execution_count": 5,
   "id": "seasonal-spread",
   "metadata": {},
   "outputs": [
    {
     "name": "stdout",
     "output_type": "stream",
     "text": [
      "<class 'pandas.core.frame.DataFrame'>\n",
      "RangeIndex: 61 entries, 0 to 60\n",
      "Data columns (total 7 columns):\n",
      " #   Column     Non-Null Count  Dtype         \n",
      "---  ------     --------------  -----         \n",
      " 0   Date       61 non-null     datetime64[ns]\n",
      " 1   Open       61 non-null     float64       \n",
      " 2   High       61 non-null     float64       \n",
      " 3   Low        61 non-null     float64       \n",
      " 4   Close      61 non-null     float64       \n",
      " 5   Adj Close  61 non-null     float64       \n",
      " 6   Volume     61 non-null     float64       \n",
      "dtypes: datetime64[ns](1), float64(6)\n",
      "memory usage: 3.5 KB\n"
     ]
    }
   ],
   "source": [
    "df['Date'] = pd.to_datetime(df.Date)\n",
    "df.info()"
   ]
  },
  {
   "cell_type": "code",
   "execution_count": 6,
   "id": "nonprofit-rebecca",
   "metadata": {},
   "outputs": [],
   "source": [
    "df2 = df[[\"Date\",\"Open\",\"High\",\"Low\", \"Close\",\"Adj Close\",\"Volume\"]]\n",
    "df2 = df2.loc[:,[\"Date\",\"Open\",\"High\",\"Low\", \"Close\",\"Adj Close\", \"Volume\"]]"
   ]
  },
  {
   "cell_type": "code",
   "execution_count": 7,
   "id": "respective-wagon",
   "metadata": {},
   "outputs": [
    {
     "data": {
      "text/plain": "pandas.core.frame.DataFrame"
     },
     "execution_count": 7,
     "metadata": {},
     "output_type": "execute_result"
    }
   ],
   "source": [
    "type(df2)"
   ]
  },
  {
   "cell_type": "code",
   "execution_count": 8,
   "id": "nuclear-assurance",
   "metadata": {},
   "outputs": [
    {
     "data": {
      "text/plain": "             Open        High         Low       Close   Adj Close  \\\ncount   61.000000   61.000000   61.000000   61.000000   61.000000   \nmean   513.107377  519.311476  504.392620  512.195080  512.195080   \nstd     44.467088   44.103444   42.305209   42.236601   42.236601   \nmin    435.000000  455.549988  435.000000  449.899994  449.899994   \n25%    477.000000  483.200012  471.100006  478.600006  478.600006   \n50%    507.000000  511.200012  499.100006  505.149994  505.149994   \n75%    532.000000  549.750000  527.099976  540.250000  540.250000   \nmax    609.549988  610.650024  593.799988  602.650024  602.650024   \n\n             Volume  \ncount     61.000000  \nmean   17847.919443  \nstd    11694.021440  \nmin     8272.841000  \n25%    11608.846000  \n50%    14512.799000  \n75%    19654.749000  \nmax    83668.562000  ",
      "text/html": "<div>\n<style scoped>\n    .dataframe tbody tr th:only-of-type {\n        vertical-align: middle;\n    }\n\n    .dataframe tbody tr th {\n        vertical-align: top;\n    }\n\n    .dataframe thead th {\n        text-align: right;\n    }\n</style>\n<table border=\"1\" class=\"dataframe\">\n  <thead>\n    <tr style=\"text-align: right;\">\n      <th></th>\n      <th>Open</th>\n      <th>High</th>\n      <th>Low</th>\n      <th>Close</th>\n      <th>Adj Close</th>\n      <th>Volume</th>\n    </tr>\n  </thead>\n  <tbody>\n    <tr>\n      <th>count</th>\n      <td>61.000000</td>\n      <td>61.000000</td>\n      <td>61.000000</td>\n      <td>61.000000</td>\n      <td>61.000000</td>\n      <td>61.000000</td>\n    </tr>\n    <tr>\n      <th>mean</th>\n      <td>513.107377</td>\n      <td>519.311476</td>\n      <td>504.392620</td>\n      <td>512.195080</td>\n      <td>512.195080</td>\n      <td>17847.919443</td>\n    </tr>\n    <tr>\n      <th>std</th>\n      <td>44.467088</td>\n      <td>44.103444</td>\n      <td>42.305209</td>\n      <td>42.236601</td>\n      <td>42.236601</td>\n      <td>11694.021440</td>\n    </tr>\n    <tr>\n      <th>min</th>\n      <td>435.000000</td>\n      <td>455.549988</td>\n      <td>435.000000</td>\n      <td>449.899994</td>\n      <td>449.899994</td>\n      <td>8272.841000</td>\n    </tr>\n    <tr>\n      <th>25%</th>\n      <td>477.000000</td>\n      <td>483.200012</td>\n      <td>471.100006</td>\n      <td>478.600006</td>\n      <td>478.600006</td>\n      <td>11608.846000</td>\n    </tr>\n    <tr>\n      <th>50%</th>\n      <td>507.000000</td>\n      <td>511.200012</td>\n      <td>499.100006</td>\n      <td>505.149994</td>\n      <td>505.149994</td>\n      <td>14512.799000</td>\n    </tr>\n    <tr>\n      <th>75%</th>\n      <td>532.000000</td>\n      <td>549.750000</td>\n      <td>527.099976</td>\n      <td>540.250000</td>\n      <td>540.250000</td>\n      <td>19654.749000</td>\n    </tr>\n    <tr>\n      <th>max</th>\n      <td>609.549988</td>\n      <td>610.650024</td>\n      <td>593.799988</td>\n      <td>602.650024</td>\n      <td>602.650024</td>\n      <td>83668.562000</td>\n    </tr>\n  </tbody>\n</table>\n</div>"
     },
     "execution_count": 8,
     "metadata": {},
     "output_type": "execute_result"
    }
   ],
   "source": [
    "df2.describe()"
   ]
  },
  {
   "cell_type": "code",
   "execution_count": 9,
   "id": "disabled-member",
   "metadata": {},
   "outputs": [
    {
     "data": {
      "text/plain": "<AxesSubplot:>"
     },
     "execution_count": 9,
     "metadata": {},
     "output_type": "execute_result"
    },
    {
     "data": {
      "text/plain": "<Figure size 720x288 with 1 Axes>",
      "image/png": "[encoded data removed]"
     },
     "metadata": {
      "needs_background": "light"
     },
     "output_type": "display_data"
    }
   ],
   "source": [
    "df2['Open'].plot(legend = True,figsize = (10,4))"
   ]
  },
  {
   "cell_type": "code",
   "execution_count": 10,
   "id": "cooked-memory",
   "metadata": {},
   "outputs": [
    {
     "data": {
      "text/plain": "<AxesSubplot:>"
     },
     "execution_count": 10,
     "metadata": {},
     "output_type": "execute_result"
    },
    {
     "data": {
      "text/plain": "<Figure size 720x288 with 1 Axes>",
      "image/png": "[encoded data removed]"
     },
     "metadata": {
      "needs_background": "light"
     },
     "output_type": "display_data"
    }
   ],
   "source": [
    "df2['Volume'].plot(legend = True, figsize = (10,4))"
   ]
  },
  {
   "cell_type": "code",
   "execution_count": 11,
   "id": "breathing-presence",
   "metadata": {},
   "outputs": [
    {
     "data": {
      "text/plain": "<Figure size 432x288 with 1 Axes>",
      "image/png": "[encoded data removed]"
     },
     "metadata": {
      "needs_background": "light"
     },
     "output_type": "display_data"
    }
   ],
   "source": [
    "fig = plt.figure()\n",
    "ax = fig.add_axes([0,0,1,1])\n",
    "ax.bar(df.Date,df['Volume'])\n",
    "plt.show()"
   ]
  },
  {
   "cell_type": "code",
   "execution_count": 12,
   "id": "cooked-tender",
   "metadata": {},
   "outputs": [
    {
     "data": {
      "text/plain": "0    28174.600\n1    16036.760\n2    10003.680\n3     9234.395\n4    11970.462\n5    24493.687\n6     9620.279\n7    15737.416\n8    14512.799\n9     8272.841\nName: Volume, dtype: float64"
     },
     "execution_count": 12,
     "metadata": {},
     "output_type": "execute_result"
    }
   ],
   "source": [
    "closingprice_df = df2['Volume']\n",
    "closingprice_df.head(10)"
   ]
  },
  {
   "cell_type": "code",
   "execution_count": 13,
   "id": "c8475f1b",
   "metadata": {},
   "outputs": [
    {
     "data": {
      "text/plain": "0         NaN\n1   -0.430808\n2   -0.376203\n3   -0.076900\n4    0.296291\nName: Volume, dtype: float64"
     },
     "execution_count": 13,
     "metadata": {},
     "output_type": "execute_result"
    }
   ],
   "source": [
    "tech_returns = closingprice_df.pct_change()\n",
    "tech_returns.head()"
   ]
  },
  {
   "cell_type": "code",
   "execution_count": 14,
   "id": "ceb7e4d8",
   "metadata": {},
   "outputs": [
    {
     "data": {
      "text/plain": "<seaborn.axisgrid.JointGrid at 0x7fe9224dadc0>"
     },
     "execution_count": 14,
     "metadata": {},
     "output_type": "execute_result"
    },
    {
     "data": {
      "text/plain": "<Figure size 432x432 with 3 Axes>",
      "image/png": "[encoded data removed]"
     },
     "metadata": {
      "needs_background": "light"
     },
     "output_type": "display_data"
    }
   ],
   "source": [
    "sns.jointplot(x = df['Date'],y = tech_returns,kind='scatter',color='blue')"
   ]
  },
  {
   "cell_type": "code",
   "execution_count": 15,
   "id": "86e62ae1",
   "metadata": {
    "scrolled": true
   },
   "outputs": [],
   "source": [
    "#Building linear regression model\n",
    "from sklearn.model_selection import train_test_split\n",
    "\n",
    "from sklearn.preprocessing import MinMaxScaler\n",
    "from sklearn.preprocessing import StandardScaler\n",
    "\n",
    "#for model supervision\n",
    "from sklearn.metrics import mean_squared_error as mse\n",
    "from sklearn.metrics import r2_score"
   ]
  },
  {
   "cell_type": "code",
   "execution_count": 16,
   "id": "0fedc6c8",
   "metadata": {},
   "outputs": [
    {
     "data": {
      "text/html": "        <script type=\"text/javascript\">\n        window.PlotlyConfig = {MathJaxConfig: 'local'};\n        if (window.MathJax) {MathJax.Hub.Config({SVG: {font: \"STIX-Web\"}});}\n        if (typeof require !== 'undefined') {\n        require.undef(\"plotly\");\n        requirejs.config({\n            paths: {\n                'plotly': ['https://cdn.plot.ly/plotly-latest.min']\n            }\n        });\n        require(['plotly'], function(Plotly) {\n            window._Plotly = Plotly;\n        });\n        }\n        </script>\n        "
     },
     "metadata": {},
     "output_type": "display_data"
    }
   ],
   "source": [
    "import numpy as np\n",
    "import chart_studio.plotly as py\n",
    "import plotly.graph_objs as go\n",
    "from plotly.offline import plot\n",
    "\n",
    "#for offline plotting\n",
    "from plotly.offline import download_plotlyjs, init_notebook_mode, plot, iplot\n",
    "init_notebook_mode(connected=True) \n",
    "\n",
    "\n",
    "#split the data into train and test sets\n",
    "X=np.array(df2.index).reshape(-1,1)\n",
    "Y=df2['Open']\n",
    "X_train,X_test,Y_train,Y_test=train_test_split(X,Y,test_size=0.4,random_state=101)\n",
    "#feature scaling\n",
    "scaler=StandardScaler().fit(X_train)"
   ]
  },
  {
   "cell_type": "code",
   "execution_count": 17,
   "id": "c02c4407",
   "metadata": {},
   "outputs": [],
   "source": [
    "from sklearn.linear_model import LinearRegression\n",
    "from plotly.graph_objects import layout"
   ]
  },
  {
   "cell_type": "code",
   "execution_count": 18,
   "id": "3bb50f94",
   "metadata": {},
   "outputs": [
    {
     "data": {
      "text/plain": "LinearRegression()"
     },
     "execution_count": 18,
     "metadata": {},
     "output_type": "execute_result"
    }
   ],
   "source": [
    "#Creating a linear model\n",
    "lm=LinearRegression()\n",
    "lm.fit(X_train,Y_train)\n"
   ]
  },
  {
   "cell_type": "code",
   "execution_count": 19,
   "id": "499af50f",
   "metadata": {},
   "outputs": [],
   "source": [
    "# Setting the layout for our plot\n",
    "layout = go.Layout(\n",
    "    title='Prices for Airtel',\n",
    "    xaxis=dict(\n",
    "        title='Date',\n",
    "        titlefont=dict(\n",
    "            family='Courier New, monospace',\n",
    "            size=18,\n",
    "            color='#7f7f7f'\n",
    "        )\n",
    "    ),\n",
    "    yaxis=dict(\n",
    "        title='Prices',\n",
    "        titlefont=dict(\n",
    "            family='Courier New, monospace',\n",
    "            size=18,\n",
    "            color='#7f7f7f'\n",
    "        )\n",
    "    )\n",
    ")\n",
    "\n",
    "airtel_data = [{'x':df['Date'], 'y':df['Open']}]\n",
    "plot = go.Figure(data=airtel_data, layout=layout)"
   ]
  },
  {
   "cell_type": "code",
   "execution_count": 20,
   "id": "2c2b68ff",
   "metadata": {},
   "outputs": [],
   "source": [
    "trace0=go.Scatter(\n",
    "    x=X_train.T[0],\n",
    "    y=Y_train,\n",
    "    mode='markers',\n",
    "    name='Actual'\n",
    ")\n",
    "trace1=go.Scatter(\n",
    "    x=X_train.T[0],\n",
    "    y=lm.predict(X_train).T,\n",
    "    mode ='lines',\n",
    "    name ='Predicted'\n",
    ")\n",
    "airtel_data = [trace0,trace1]\n",
    "layout.xaxis.title.text = 'Day'\n",
    "plot2=go.Figure(data=airtel_data, layout=layout) "
   ]
  },
  {
   "cell_type": "code",
   "execution_count": 21,
   "id": "129fdf91",
   "metadata": {},
   "outputs": [
    {
     "data": {
      "application/vnd.plotly.v1+json": {
       "config": {
        "linkText": "Export to plot.ly",
        "plotlyServerURL": "https://plot.ly",
        "showLink": false
       },
       "data": [
        {
         "mode": "markers",
         "name": "Actual",
         "type": "scatter",
         "x": [
          50,
          37,
          15,
          30,
          32,
          53,
          54,
          56,
          60,
          44,
          10,
          41,
          42,
          34,
          43,
          8,
          19,
          49,
          29,
          12,
          5,
          46,
          0,
          28,
          51,
          4,
          40,
          13,
          9,
          47,
          59,
          23,
          6,
          17,
          11,
          31
         ],
         "y": [
          582.700012,
          520.099976,
          478.399994,
          504.200012,
          513.900024,
          591.099976,
          592.299988,
          583.900024,
          578.5,
          515.0,
          490.899994,
          512.25,
          517.0,
          494.0,
          514.0,
          476.850006,
          467.75,
          588.0,
          505.850006,
          476.0,
          456.299988,
          549.299988,
          435.0,
          507.0,
          609.549988,
          457.0,
          517.099976,
          470.5,
          477.0,
          541.5,
          566.5,
          498.0,
          474.0,
          468.700012,
          483.950012,
          517.0
         ]
        },
        {
         "mode": "lines",
         "name": "Predicted",
         "type": "scatter",
         "x": [
          50,
          37,
          15,
          30,
          32,
          53,
          54,
          56,
          60,
          44,
          10,
          41,
          42,
          34,
          43,
          8,
          19,
          49,
          29,
          12,
          5,
          46,
          0,
          28,
          51,
          4,
          40,
          13,
          9,
          47,
          59,
          23,
          6,
          17,
          11,
          31
         ],
         "y": [
          558.8510433912382,
          529.027360415661,
          478.55651230314555,
          512.9684541980424,
          517.556713117362,
          565.7334317702176,
          568.0275612298775,
          572.615820149197,
          581.7923379878362,
          545.0862666332796,
          467.0858650048466,
          538.2038782543002,
          540.49800771396,
          522.1449720366816,
          542.7921371736197,
          462.497606085527,
          487.73303014178475,
          556.5569139315785,
          510.67432473838267,
          471.67412392416617,
          455.61521770654764,
          549.6745255525991,
          444.1445704082487,
          508.38019527872285,
          561.1451728508981,
          453.3210882468878,
          535.9097487946403,
          473.968253383826,
          464.79173554518684,
          551.968655012259,
          579.4982085281764,
          496.9095479804239,
          457.90934716620745,
          483.1447712224651,
          469.3799944645064,
          515.2625836577023
         ]
        }
       ],
       "layout": {
        "template": {
         "data": {
          "bar": [
           {
            "error_x": {
             "color": "#2a3f5f"
            },
            "error_y": {
             "color": "#2a3f5f"
            },
            "marker": {
             "line": {
              "color": "#E5ECF6",
              "width": 0.5
             }
            },
            "type": "bar"
           }
          ],
          "barpolar": [
           {
            "marker": {
             "line": {
              "color": "#E5ECF6",
              "width": 0.5
             }
            },
            "type": "barpolar"
           }
          ],
          "carpet": [
           {
            "aaxis": {
             "endlinecolor": "#2a3f5f",
             "gridcolor": "white",
             "linecolor": "white",
             "minorgridcolor": "white",
             "startlinecolor": "#2a3f5f"
            },
            "baxis": {
             "endlinecolor": "#2a3f5f",
             "gridcolor": "white",
             "linecolor": "white",
             "minorgridcolor": "white",
             "startlinecolor": "#2a3f5f"
            },
            "type": "carpet"
           }
          ],
          "choropleth": [
           {
            "colorbar": {
             "outlinewidth": 0,
             "ticks": ""
            },
            "type": "choropleth"
           }
          ],
          "contour": [
           {
            "colorbar": {
             "outlinewidth": 0,
             "ticks": ""
            },
            "colorscale": [
             [
              0.0,
              "#0d0887"
             ],
             [
              0.1111111111111111,
              "#46039f"
             ],
             [
              0.2222222222222222,
              "#7201a8"
             ],
             [
              0.3333333333333333,
              "#9c179e"
             ],
             [
              0.4444444444444444,
              "#bd3786"
             ],
             [
              0.5555555555555556,
              "#d8576b"
             ],
             [
              0.6666666666666666,
              "#ed7953"
             ],
             [
              0.7777777777777778,
              "#fb9f3a"
             ],
             [
              0.8888888888888888,
              "#fdca26"
             ],
             [
              1.0,
              "#f0f921"
             ]
            ],
            "type": "contour"
           }
          ],
          "contourcarpet": [
           {
            "colorbar": {
             "outlinewidth": 0,
             "ticks": ""
            },
            "type": "contourcarpet"
           }
          ],
          "heatmap": [
           {
            "colorbar": {
             "outlinewidth": 0,
             "ticks": ""
            },
            "colorscale": [
             [
              0.0,
              "#0d0887"
             ],
             [
              0.1111111111111111,
              "#46039f"
             ],
             [
              0.2222222222222222,
              "#7201a8"
             ],
             [
              0.3333333333333333,
              "#9c179e"
             ],
             [
              0.4444444444444444,
              "#bd3786"
             ],
             [
              0.5555555555555556,
              "#d8576b"
             ],
             [
              0.6666666666666666,
              "#ed7953"
             ],
             [
              0.7777777777777778,
              "#fb9f3a"
             ],
             [
              0.8888888888888888,
              "#fdca26"
             ],
             [
              1.0,
              "#f0f921"
             ]
            ],
            "type": "heatmap"
           }
          ],
          "heatmapgl": [
           {
            "colorbar": {
             "outlinewidth": 0,
             "ticks": ""
            },
            "colorscale": [
             [
              0.0,
              "#0d0887"
             ],
             [
              0.1111111111111111,
              "#46039f"
             ],
             [
              0.2222222222222222,
              "#7201a8"
             ],
             [
              0.3333333333333333,
              "#9c179e"
             ],
             [
              0.4444444444444444,
              "#bd3786"
             ],
             [
              0.5555555555555556,
              "#d8576b"
             ],
             [
              0.6666666666666666,
              "#ed7953"
             ],
             [
              0.7777777777777778,
              "#fb9f3a"
             ],
             [
              0.8888888888888888,
              "#fdca26"
             ],
             [
              1.0,
              "#f0f921"
             ]
            ],
            "type": "heatmapgl"
           }
          ],
          "histogram": [
           {
            "marker": {
             "colorbar": {
              "outlinewidth": 0,
              "ticks": ""
             }
            },
            "type": "histogram"
           }
          ],
          "histogram2d": [
           {
            "colorbar": {
             "outlinewidth": 0,
             "ticks": ""
            },
            "colorscale": [
             [
              0.0,
              "#0d0887"
             ],
             [
              0.1111111111111111,
              "#46039f"
             ],
             [
              0.2222222222222222,
              "#7201a8"
             ],
             [
              0.3333333333333333,
              "#9c179e"
             ],
             [
              0.4444444444444444,
              "#bd3786"
             ],
             [
              0.5555555555555556,
              "#d8576b"
             ],
             [
              0.6666666666666666,
              "#ed7953"
             ],
             [
              0.7777777777777778,
              "#fb9f3a"
             ],
             [
              0.8888888888888888,
              "#fdca26"
             ],
             [
              1.0,
              "#f0f921"
             ]
            ],
            "type": "histogram2d"
           }
          ],
          "histogram2dcontour": [
           {
            "colorbar": {
             "outlinewidth": 0,
             "ticks": ""
            },
            "colorscale": [
             [
              0.0,
              "#0d0887"
             ],
             [
              0.1111111111111111,
              "#46039f"
             ],
             [
              0.2222222222222222,
              "#7201a8"
             ],
             [
              0.3333333333333333,
              "#9c179e"
             ],
             [
              0.4444444444444444,
              "#bd3786"
             ],
             [
              0.5555555555555556,
              "#d8576b"
             ],
             [
              0.6666666666666666,
              "#ed7953"
             ],
             [
              0.7777777777777778,
              "#fb9f3a"
             ],
             [
              0.8888888888888888,
              "#fdca26"
             ],
             [
              1.0,
              "#f0f921"
             ]
            ],
            "type": "histogram2dcontour"
           }
          ],
          "mesh3d": [
           {
            "colorbar": {
             "outlinewidth": 0,
             "ticks": ""
            },
            "type": "mesh3d"
           }
          ],
          "parcoords": [
           {
            "line": {
             "colorbar": {
              "outlinewidth": 0,
              "ticks": ""
             }
            },
            "type": "parcoords"
           }
          ],
          "pie": [
           {
            "automargin": true,
            "type": "pie"
           }
          ],
          "scatter": [
           {
            "marker": {
             "colorbar": {
              "outlinewidth": 0,
              "ticks": ""
             }
            },
            "type": "scatter"
           }
          ],
          "scatter3d": [
           {
            "line": {
             "colorbar": {
              "outlinewidth": 0,
              "ticks": ""
             }
            },
            "marker": {
             "colorbar": {
              "outlinewidth": 0,
              "ticks": ""
             }
            },
            "type": "scatter3d"
           }
          ],
          "scattercarpet": [
           {
            "marker": {
             "colorbar": {
              "outlinewidth": 0,
              "ticks": ""
             }
            },
            "type": "scattercarpet"
           }
          ],
          "scattergeo": [
           {
            "marker": {
             "colorbar": {
              "outlinewidth": 0,
              "ticks": ""
             }
            },
            "type": "scattergeo"
           }
          ],
          "scattergl": [
           {
            "marker": {
             "colorbar": {
              "outlinewidth": 0,
              "ticks": ""
             }
            },
            "type": "scattergl"
           }
          ],
          "scattermapbox": [
           {
            "marker": {
             "colorbar": {
              "outlinewidth": 0,
              "ticks": ""
             }
            },
            "type": "scattermapbox"
           }
          ],
          "scatterpolar": [
           {
            "marker": {
             "colorbar": {
              "outlinewidth": 0,
              "ticks": ""
             }
            },
            "type": "scatterpolar"
           }
          ],
          "scatterpolargl": [
           {
            "marker": {
             "colorbar": {
              "outlinewidth": 0,
              "ticks": ""
             }
            },
            "type": "scatterpolargl"
           }
          ],
          "scatterternary": [
           {
            "marker": {
             "colorbar": {
              "outlinewidth": 0,
              "ticks": ""
             }
            },
            "type": "scatterternary"
           }
          ],
          "surface": [
           {
            "colorbar": {
             "outlinewidth": 0,
             "ticks": ""
            },
            "colorscale": [
             [
              0.0,
              "#0d0887"
             ],
             [
              0.1111111111111111,
              "#46039f"
             ],
             [
              0.2222222222222222,
              "#7201a8"
             ],
             [
              0.3333333333333333,
              "#9c179e"
             ],
             [
              0.4444444444444444,
              "#bd3786"
             ],
             [
              0.5555555555555556,
              "#d8576b"
             ],
             [
              0.6666666666666666,
              "#ed7953"
             ],
             [
              0.7777777777777778,
              "#fb9f3a"
             ],
             [
              0.8888888888888888,
              "#fdca26"
             ],
             [
              1.0,
              "#f0f921"
             ]
            ],
            "type": "surface"
           }
          ],
          "table": [
           {
            "cells": {
             "fill": {
              "color": "#EBF0F8"
             },
             "line": {
              "color": "white"
             }
            },
            "header": {
             "fill": {
              "color": "#C8D4E3"
             },
             "line": {
              "color": "white"
             }
            },
            "type": "table"
           }
          ]
         },
         "layout": {
          "annotationdefaults": {
           "arrowcolor": "#2a3f5f",
           "arrowhead": 0,
           "arrowwidth": 1
          },
          "autotypenumbers": "strict",
          "coloraxis": {
           "colorbar": {
            "outlinewidth": 0,
            "ticks": ""
           }
          },
          "colorscale": {
           "diverging": [
            [
             0,
             "#8e0152"
            ],
            [
             0.1,
             "#c51b7d"
            ],
            [
             0.2,
             "#de77ae"
            ],
            [
             0.3,
             "#f1b6da"
            ],
            [
             0.4,
             "#fde0ef"
            ],
            [
             0.5,
             "#f7f7f7"
            ],
            [
             0.6,
             "#e6f5d0"
            ],
            [
             0.7,
             "#b8e186"
            ],
            [
             0.8,
             "#7fbc41"
            ],
            [
             0.9,
             "#4d9221"
            ],
            [
             1,
             "#276419"
            ]
           ],
           "sequential": [
            [
             0.0,
             "#0d0887"
            ],
            [
             0.1111111111111111,
             "#46039f"
            ],
            [
             0.2222222222222222,
             "#7201a8"
            ],
            [
             0.3333333333333333,
             "#9c179e"
            ],
            [
             0.4444444444444444,
             "#bd3786"
            ],
            [
             0.5555555555555556,
             "#d8576b"
            ],
            [
             0.6666666666666666,
             "#ed7953"
            ],
            [
             0.7777777777777778,
             "#fb9f3a"
            ],
            [
             0.8888888888888888,
             "#fdca26"
            ],
            [
             1.0,
             "#f0f921"
            ]
           ],
           "sequentialminus": [
            [
             0.0,
             "#0d0887"
            ],
            [
             0.1111111111111111,
             "#46039f"
            ],
            [
             0.2222222222222222,
             "#7201a8"
            ],
            [
             0.3333333333333333,
             "#9c179e"
            ],
            [
             0.4444444444444444,
             "#bd3786"
            ],
            [
             0.5555555555555556,
             "#d8576b"
            ],
            [
             0.6666666666666666,
             "#ed7953"
            ],
            [
             0.7777777777777778,
             "#fb9f3a"
            ],
            [
             0.8888888888888888,
             "#fdca26"
            ],
            [
             1.0,
             "#f0f921"
            ]
           ]
          },
          "colorway": [
           "#636efa",
           "#EF553B",
           "#00cc96",
           "#ab63fa",
           "#FFA15A",
           "#19d3f3",
           "#FF6692",
           "#B6E880",
           "#FF97FF",
           "#FECB52"
          ],
          "font": {
           "color": "#2a3f5f"
          },
          "geo": {
           "bgcolor": "white",
           "lakecolor": "white",
           "landcolor": "#E5ECF6",
           "showlakes": true,
           "showland": true,
           "subunitcolor": "white"
          },
          "hoverlabel": {
           "align": "left"
          },
          "hovermode": "closest",
          "mapbox": {
           "style": "light"
          },
          "paper_bgcolor": "white",
          "plot_bgcolor": "#E5ECF6",
          "polar": {
           "angularaxis": {
            "gridcolor": "white",
            "linecolor": "white",
            "ticks": ""
           },
           "bgcolor": "#E5ECF6",
           "radialaxis": {
            "gridcolor": "white",
            "linecolor": "white",
            "ticks": ""
           }
          },
          "scene": {
           "xaxis": {
            "backgroundcolor": "#E5ECF6",
            "gridcolor": "white",
            "gridwidth": 2,
            "linecolor": "white",
            "showbackground": true,
            "ticks": "",
            "zerolinecolor": "white"
           },
           "yaxis": {
            "backgroundcolor": "#E5ECF6",
            "gridcolor": "white",
            "gridwidth": 2,
            "linecolor": "white",
            "showbackground": true,
            "ticks": "",
            "zerolinecolor": "white"
           },
           "zaxis": {
            "backgroundcolor": "#E5ECF6",
            "gridcolor": "white",
            "gridwidth": 2,
            "linecolor": "white",
            "showbackground": true,
            "ticks": "",
            "zerolinecolor": "white"
           }
          },
          "shapedefaults": {
           "line": {
            "color": "#2a3f5f"
           }
          },
          "ternary": {
           "aaxis": {
            "gridcolor": "white",
            "linecolor": "white",
            "ticks": ""
           },
           "baxis": {
            "gridcolor": "white",
            "linecolor": "white",
            "ticks": ""
           },
           "bgcolor": "#E5ECF6",
           "caxis": {
            "gridcolor": "white",
            "linecolor": "white",
            "ticks": ""
           }
          },
          "title": {
           "x": 0.05
          },
          "xaxis": {
           "automargin": true,
           "gridcolor": "white",
           "linecolor": "white",
           "ticks": "",
           "title": {
            "standoff": 15
           },
           "zerolinecolor": "white",
           "zerolinewidth": 2
          },
          "yaxis": {
           "automargin": true,
           "gridcolor": "white",
           "linecolor": "white",
           "ticks": "",
           "title": {
            "standoff": 15
           },
           "zerolinecolor": "white",
           "zerolinewidth": 2
          }
         }
        },
        "title": {
         "text": "Prices for Airtel"
        },
        "xaxis": {
         "title": {
          "font": {
           "color": "#7f7f7f",
           "family": "Courier New, monospace",
           "size": 18
          },
          "text": "Day"
         }
        },
        "yaxis": {
         "title": {
          "font": {
           "color": "#7f7f7f",
           "family": "Courier New, monospace",
           "size": 18
          },
          "text": "Prices"
         }
        }
       }
      },
      "text/html": "<div>                            <div id=\"1be07bea-e967-4a2b-a87c-9f58859a46ba\" class=\"plotly-graph-div\" style=\"height:525px; width:100%;\"></div>            <script type=\"text/javascript\">                require([\"plotly\"], function(Plotly) {                    window.PLOTLYENV=window.PLOTLYENV || {};                                    if (document.getElementById(\"1be07bea-e967-4a2b-a87c-9f58859a46ba\")) {                    Plotly.newPlot(                        \"1be07bea-e967-4a2b-a87c-9f58859a46ba\",                        [{\"mode\": \"markers\", \"name\": \"Actual\", \"type\": \"scatter\", \"x\": [50, 37, 15, 30, 32, 53, 54, 56, 60, 44, 10, 41, 42, 34, 43, 8, 19, 49, 29, 12, 5, 46, 0, 28, 51, 4, 40, 13, 9, 47, 59, 23, 6, 17, 11, 31], \"y\": [582.700012, 520.099976, 478.399994, 504.200012, 513.900024, 591.099976, 592.299988, 583.900024, 578.5, 515.0, 490.899994, 512.25, 517.0, 494.0, 514.0, 476.850006, 467.75, 588.0, 505.850006, 476.0, 456.299988, 549.299988, 435.0, 507.0, 609.549988, 457.0, 517.099976, 470.5, 477.0, 541.5, 566.5, 498.0, 474.0, 468.700012, 483.950012, 517.0]}, {\"mode\": \"lines\", \"name\": \"Predicted\", \"type\": \"scatter\", \"x\": [50, 37, 15, 30, 32, 53, 54, 56, 60, 44, 10, 41, 42, 34, 43, 8, 19, 49, 29, 12, 5, 46, 0, 28, 51, 4, 40, 13, 9, 47, 59, 23, 6, 17, 11, 31], \"y\": [558.8510433912382, 529.027360415661, 478.55651230314555, 512.9684541980424, 517.556713117362, 565.7334317702176, 568.0275612298775, 572.615820149197, 581.7923379878362, 545.0862666332796, 467.0858650048466, 538.2038782543002, 540.49800771396, 522.1449720366816, 542.7921371736197, 462.497606085527, 487.73303014178475, 556.5569139315785, 510.67432473838267, 471.67412392416617, 455.61521770654764, 549.6745255525991, 444.1445704082487, 508.38019527872285, 561.1451728508981, 453.3210882468878, 535.9097487946403, 473.968253383826, 464.79173554518684, 551.968655012259, 579.4982085281764, 496.9095479804239, 457.90934716620745, 483.1447712224651, 469.3799944645064, 515.2625836577023]}],                        {\"template\": {\"data\": {\"bar\": [{\"error_x\": {\"color\": \"#2a3f5f\"}, \"error_y\": {\"color\": \"#2a3f5f\"}, \"marker\": {\"line\": {\"color\": \"#E5ECF6\", \"width\": 0.5}}, \"type\": \"bar\"}], \"barpolar\": [{\"marker\": {\"line\": {\"color\": \"#E5ECF6\", \"width\": 0.5}}, \"type\": \"barpolar\"}], \"carpet\": [{\"aaxis\": {\"endlinecolor\": \"#2a3f5f\", \"gridcolor\": \"white\", \"linecolor\": \"white\", \"minorgridcolor\": \"white\", \"startlinecolor\": \"#2a3f5f\"}, \"baxis\": {\"endlinecolor\": \"#2a3f5f\", \"gridcolor\": \"white\", \"linecolor\": \"white\", \"minorgridcolor\": \"white\", \"startlinecolor\": \"#2a3f5f\"}, \"type\": \"carpet\"}], \"choropleth\": [{\"colorbar\": {\"outlinewidth\": 0, \"ticks\": \"\"}, \"type\": \"choropleth\"}], \"contour\": [{\"colorbar\": {\"outlinewidth\": 0, \"ticks\": \"\"}, \"colorscale\": [[0.0, \"#0d0887\"], [0.1111111111111111, \"#46039f\"], [0.2222222222222222, \"#7201a8\"], [0.3333333333333333, \"#9c179e\"], [0.4444444444444444, \"#bd3786\"], [0.5555555555555556, \"#d8576b\"], [0.6666666666666666, \"#ed7953\"], [0.7777777777777778, \"#fb9f3a\"], [0.8888888888888888, \"#fdca26\"], [1.0, \"#f0f921\"]], \"type\": \"contour\"}], \"contourcarpet\": [{\"colorbar\": {\"outlinewidth\": 0, \"ticks\": \"\"}, \"type\": \"contourcarpet\"}], \"heatmap\": [{\"colorbar\": {\"outlinewidth\": 0, \"ticks\": \"\"}, \"colorscale\": [[0.0, \"#0d0887\"], [0.1111111111111111, \"#46039f\"], [0.2222222222222222, \"#7201a8\"], [0.3333333333333333, \"#9c179e\"], [0.4444444444444444, \"#bd3786\"], [0.5555555555555556, \"#d8576b\"], [0.6666666666666666, \"#ed7953\"], [0.7777777777777778, \"#fb9f3a\"], [0.8888888888888888, \"#fdca26\"], [1.0, \"#f0f921\"]], \"type\": \"heatmap\"}], \"heatmapgl\": [{\"colorbar\": {\"outlinewidth\": 0, \"ticks\": \"\"}, \"colorscale\": [[0.0, \"#0d0887\"], [0.1111111111111111, \"#46039f\"], [0.2222222222222222, \"#7201a8\"], [0.3333333333333333, \"#9c179e\"], [0.4444444444444444, \"#bd3786\"], [0.5555555555555556, \"#d8576b\"], [0.6666666666666666, \"#ed7953\"], [0.7777777777777778, \"#fb9f3a\"], [0.8888888888888888, \"#fdca26\"], [1.0, \"#f0f921\"]], \"type\": \"heatmapgl\"}], \"histogram\": [{\"marker\": {\"colorbar\": {\"outlinewidth\": 0, \"ticks\": \"\"}}, \"type\": \"histogram\"}], \"histogram2d\": [{\"colorbar\": {\"outlinewidth\": 0, \"ticks\": \"\"}, \"colorscale\": [[0.0, \"#0d0887\"], [0.1111111111111111, \"#46039f\"], [0.2222222222222222, \"#7201a8\"], [0.3333333333333333, \"#9c179e\"], [0.4444444444444444, \"#bd3786\"], [0.5555555555555556, \"#d8576b\"], [0.6666666666666666, \"#ed7953\"], [0.7777777777777778, \"#fb9f3a\"], [0.8888888888888888, \"#fdca26\"], [1.0, \"#f0f921\"]], \"type\": \"histogram2d\"}], \"histogram2dcontour\": [{\"colorbar\": {\"outlinewidth\": 0, \"ticks\": \"\"}, \"colorscale\": [[0.0, \"#0d0887\"], [0.1111111111111111, \"#46039f\"], [0.2222222222222222, \"#7201a8\"], [0.3333333333333333, \"#9c179e\"], [0.4444444444444444, \"#bd3786\"], [0.5555555555555556, \"#d8576b\"], [0.6666666666666666, \"#ed7953\"], [0.7777777777777778, \"#fb9f3a\"], [0.8888888888888888, \"#fdca26\"], [1.0, \"#f0f921\"]], \"type\": \"histogram2dcontour\"}], \"mesh3d\": [{\"colorbar\": {\"outlinewidth\": 0, \"ticks\": \"\"}, \"type\": \"mesh3d\"}], \"parcoords\": [{\"line\": {\"colorbar\": {\"outlinewidth\": 0, \"ticks\": \"\"}}, \"type\": \"parcoords\"}], \"pie\": [{\"automargin\": true, \"type\": \"pie\"}], \"scatter\": [{\"marker\": {\"colorbar\": {\"outlinewidth\": 0, \"ticks\": \"\"}}, \"type\": \"scatter\"}], \"scatter3d\": [{\"line\": {\"colorbar\": {\"outlinewidth\": 0, \"ticks\": \"\"}}, \"marker\": {\"colorbar\": {\"outlinewidth\": 0, \"ticks\": \"\"}}, \"type\": \"scatter3d\"}], \"scattercarpet\": [{\"marker\": {\"colorbar\": {\"outlinewidth\": 0, \"ticks\": \"\"}}, \"type\": \"scattercarpet\"}], \"scattergeo\": [{\"marker\": {\"colorbar\": {\"outlinewidth\": 0, \"ticks\": \"\"}}, \"type\": \"scattergeo\"}], \"scattergl\": [{\"marker\": {\"colorbar\": {\"outlinewidth\": 0, \"ticks\": \"\"}}, \"type\": \"scattergl\"}], \"scattermapbox\": [{\"marker\": {\"colorbar\": {\"outlinewidth\": 0, \"ticks\": \"\"}}, \"type\": \"scattermapbox\"}], \"scatterpolar\": [{\"marker\": {\"colorbar\": {\"outlinewidth\": 0, \"ticks\": \"\"}}, \"type\": \"scatterpolar\"}], \"scatterpolargl\": [{\"marker\": {\"colorbar\": {\"outlinewidth\": 0, \"ticks\": \"\"}}, \"type\": \"scatterpolargl\"}], \"scatterternary\": [{\"marker\": {\"colorbar\": {\"outlinewidth\": 0, \"ticks\": \"\"}}, \"type\": \"scatterternary\"}], \"surface\": [{\"colorbar\": {\"outlinewidth\": 0, \"ticks\": \"\"}, \"colorscale\": [[0.0, \"#0d0887\"], [0.1111111111111111, \"#46039f\"], [0.2222222222222222, \"#7201a8\"], [0.3333333333333333, \"#9c179e\"], [0.4444444444444444, \"#bd3786\"], [0.5555555555555556, \"#d8576b\"], [0.6666666666666666, \"#ed7953\"], [0.7777777777777778, \"#fb9f3a\"], [0.8888888888888888, \"#fdca26\"], [1.0, \"#f0f921\"]], \"type\": \"surface\"}], \"table\": [{\"cells\": {\"fill\": {\"color\": \"#EBF0F8\"}, \"line\": {\"color\": \"white\"}}, \"header\": {\"fill\": {\"color\": \"#C8D4E3\"}, \"line\": {\"color\": \"white\"}}, \"type\": \"table\"}]}, \"layout\": {\"annotationdefaults\": {\"arrowcolor\": \"#2a3f5f\", \"arrowhead\": 0, \"arrowwidth\": 1}, \"autotypenumbers\": \"strict\", \"coloraxis\": {\"colorbar\": {\"outlinewidth\": 0, \"ticks\": \"\"}}, \"colorscale\": {\"diverging\": [[0, \"#8e0152\"], [0.1, \"#c51b7d\"], [0.2, \"#de77ae\"], [0.3, \"#f1b6da\"], [0.4, \"#fde0ef\"], [0.5, \"#f7f7f7\"], [0.6, \"#e6f5d0\"], [0.7, \"#b8e186\"], [0.8, \"#7fbc41\"], [0.9, \"#4d9221\"], [1, \"#276419\"]], \"sequential\": [[0.0, \"#0d0887\"], [0.1111111111111111, \"#46039f\"], [0.2222222222222222, \"#7201a8\"], [0.3333333333333333, \"#9c179e\"], [0.4444444444444444, \"#bd3786\"], [0.5555555555555556, \"#d8576b\"], [0.6666666666666666, \"#ed7953\"], [0.7777777777777778, \"#fb9f3a\"], [0.8888888888888888, \"#fdca26\"], [1.0, \"#f0f921\"]], \"sequentialminus\": [[0.0, \"#0d0887\"], [0.1111111111111111, \"#46039f\"], [0.2222222222222222, \"#7201a8\"], [0.3333333333333333, \"#9c179e\"], [0.4444444444444444, \"#bd3786\"], [0.5555555555555556, \"#d8576b\"], [0.6666666666666666, \"#ed7953\"], [0.7777777777777778, \"#fb9f3a\"], [0.8888888888888888, \"#fdca26\"], [1.0, \"#f0f921\"]]}, \"colorway\": [\"#636efa\", \"#EF553B\", \"#00cc96\", \"#ab63fa\", \"#FFA15A\", \"#19d3f3\", \"#FF6692\", \"#B6E880\", \"#FF97FF\", \"#FECB52\"], \"font\": {\"color\": \"#2a3f5f\"}, \"geo\": {\"bgcolor\": \"white\", \"lakecolor\": \"white\", \"landcolor\": \"#E5ECF6\", \"showlakes\": true, \"showland\": true, \"subunitcolor\": \"white\"}, \"hoverlabel\": {\"align\": \"left\"}, \"hovermode\": \"closest\", \"mapbox\": {\"style\": \"light\"}, \"paper_bgcolor\": \"white\", \"plot_bgcolor\": \"#E5ECF6\", \"polar\": {\"angularaxis\": {\"gridcolor\": \"white\", \"linecolor\": \"white\", \"ticks\": \"\"}, \"bgcolor\": \"#E5ECF6\", \"radialaxis\": {\"gridcolor\": \"white\", \"linecolor\": \"white\", \"ticks\": \"\"}}, \"scene\": {\"xaxis\": {\"backgroundcolor\": \"#E5ECF6\", \"gridcolor\": \"white\", \"gridwidth\": 2, \"linecolor\": \"white\", \"showbackground\": true, \"ticks\": \"\", \"zerolinecolor\": \"white\"}, \"yaxis\": {\"backgroundcolor\": \"#E5ECF6\", \"gridcolor\": \"white\", \"gridwidth\": 2, \"linecolor\": \"white\", \"showbackground\": true, \"ticks\": \"\", \"zerolinecolor\": \"white\"}, \"zaxis\": {\"backgroundcolor\": \"#E5ECF6\", \"gridcolor\": \"white\", \"gridwidth\": 2, \"linecolor\": \"white\", \"showbackground\": true, \"ticks\": \"\", \"zerolinecolor\": \"white\"}}, \"shapedefaults\": {\"line\": {\"color\": \"#2a3f5f\"}}, \"ternary\": {\"aaxis\": {\"gridcolor\": \"white\", \"linecolor\": \"white\", \"ticks\": \"\"}, \"baxis\": {\"gridcolor\": \"white\", \"linecolor\": \"white\", \"ticks\": \"\"}, \"bgcolor\": \"#E5ECF6\", \"caxis\": {\"gridcolor\": \"white\", \"linecolor\": \"white\", \"ticks\": \"\"}}, \"title\": {\"x\": 0.05}, \"xaxis\": {\"automargin\": true, \"gridcolor\": \"white\", \"linecolor\": \"white\", \"ticks\": \"\", \"title\": {\"standoff\": 15}, \"zerolinecolor\": \"white\", \"zerolinewidth\": 2}, \"yaxis\": {\"automargin\": true, \"gridcolor\": \"white\", \"linecolor\": \"white\", \"ticks\": \"\", \"title\": {\"standoff\": 15}, \"zerolinecolor\": \"white\", \"zerolinewidth\": 2}}}, \"title\": {\"text\": \"Prices for Airtel\"}, \"xaxis\": {\"title\": {\"font\": {\"color\": \"#7f7f7f\", \"family\": \"Courier New, monospace\", \"size\": 18}, \"text\": \"Day\"}}, \"yaxis\": {\"title\": {\"font\": {\"color\": \"#7f7f7f\", \"family\": \"Courier New, monospace\", \"size\": 18}, \"text\": \"Prices\"}}},                        {\"responsive\": true}                    ).then(function(){\n                            \nvar gd = document.getElementById('1be07bea-e967-4a2b-a87c-9f58859a46ba');\nvar x = new MutationObserver(function (mutations, observer) {{\n        var display = window.getComputedStyle(gd).display;\n        if (!display || display === 'none') {{\n            console.log([gd, 'removed!']);\n            Plotly.purge(gd);\n            observer.disconnect();\n        }}\n}});\n\n// Listen for the removal of the full notebook cells\nvar notebookContainer = gd.closest('#notebook-container');\nif (notebookContainer) {{\n    x.observe(notebookContainer, {childList: true});\n}}\n\n// Listen for the clearing of the current output cell\nvar outputEl = gd.closest('.output');\nif (outputEl) {{\n    x.observe(outputEl, {childList: true});\n}}\n\n                        })                };                });            </script>        </div>"
     },
     "metadata": {},
     "output_type": "display_data"
    }
   ],
   "source": [
    "iplot(plot2)"
   ]
  },
  {
   "cell_type": "code",
   "execution_count": 22,
   "id": "b27f91d5",
   "metadata": {},
   "outputs": [
    {
     "name": "stdout",
     "output_type": "stream",
     "text": [
      "\n",
      "Metric           Train                Test        \n",
      "r2_score  0.8369880432002641\t0.894005995849643\n",
      "MSE       332.9128898977879\t190.28094994603904\n",
      "\n"
     ]
    }
   ],
   "source": [
    "scores = f'''\n",
    "{'Metric'.ljust(10)}{'Train'.center(20)}{'Test'.center(20)}\n",
    "{'r2_score'.ljust(10)}{r2_score(Y_train, lm.predict(X_train))}\\t{r2_score(Y_test, lm.predict(X_test))}\n",
    "{'MSE'.ljust(10)}{mse(Y_train, lm.predict(X_train))}\\t{mse(Y_test, lm.predict(X_test))}\n",
    "'''\n",
    "print(scores)"
   ]
  },
  {
   "cell_type": "code",
   "execution_count": 23,
   "id": "1393e3d8",
   "metadata": {},
   "outputs": [
    {
     "name": "stdout",
     "output_type": "stream",
     "text": [
      "\n",
      "\n",
      "Training Set\n",
      "          High         Low       Close   Adj Close     Volume\n",
      "28  512.000000  501.149994  503.049988  503.049988  13886.923\n",
      "4   460.350006  448.750000  449.899994  449.899994  11970.462\n",
      "38  524.950012  515.099976  520.250000  520.250000  11246.474\n",
      "43  516.900024  511.100006  514.000000  514.000000  10492.428\n",
      "19  482.500000  460.500000  479.450012  479.450012  18193.356\n",
      "28    507.00\n",
      "4     457.00\n",
      "38    523.00\n",
      "43    514.00\n",
      "19    467.75\n",
      "Name: Open, dtype: float64\n"
     ]
    }
   ],
   "source": [
    "#Split into train and test data\n",
    "df.drop('Date',axis =1, inplace = True)\n",
    "data_X = df.loc[:,df.columns != 'Open']\n",
    "data_Y = df['Open']\n",
    "train_X, test_X, train_y, test_y = train_test_split(data_X,data_Y, test_size = 0.4)\n",
    "print('\\n\\nTraining Set')\n",
    "print(train_X.head())\n",
    "print(train_y.head())"
   ]
  },
  {
   "cell_type": "code",
   "execution_count": 24,
   "id": "d9dde725",
   "metadata": {},
   "outputs": [
    {
     "data": {
      "text/plain": "LinearRegression()"
     },
     "execution_count": 24,
     "metadata": {},
     "output_type": "execute_result"
    }
   ],
   "source": [
    "#Creating the regressor\n",
    "regressor = LinearRegression()\n",
    "regressor.fit(train_X,train_y)"
   ]
  },
  {
   "cell_type": "code",
   "execution_count": 25,
   "id": "60391f1a",
   "metadata": {},
   "outputs": [
    {
     "name": "stdout",
     "output_type": "stream",
     "text": [
      "Prediction Score:  0.9931672101180186\n",
      "Mean Squared Error:  13.0624637761229\n"
     ]
    }
   ],
   "source": [
    "#Make predictions and evaluate the results\n",
    "\n",
    "predict_y = regressor.predict(test_X)\n",
    "print('Prediction Score: ',regressor.score(test_X,test_y))\n",
    "error = mse(test_y,predict_y)\n",
    "print('Mean Squared Error: ',error)"
   ]
  },
  {
   "cell_type": "code",
   "execution_count": 26,
   "id": "1c21681e",
   "metadata": {
    "pycharm": {
     "name": "#%%\n"
    }
   },
   "outputs": [
    {
     "data": {
      "text/plain": "<Figure size 432x288 with 1 Axes>",
      "image/png": "[encoded data removed]"
     },
     "metadata": {
      "needs_background": "light"
     },
     "output_type": "display_data"
    }
   ],
   "source": [
    "#Plot the predicted and the expected values\n",
    "fig = plt.figure()\n",
    "ax = plt.axes()\n",
    "ax.grid()\n",
    "ax.set(xlabel = 'Open', ylabel = 'High',title='Airtel stock prediction using Linear Regression')\n",
    "ax.plot(test_X['High'],test_y)\n",
    "ax.plot(test_X['High'],predict_y)\n",
    "\n",
    "plt.show()\n",
    "\n",
    "\n"
   ]
  }
 ],
 "metadata": {
  "kernelspec": {
   "display_name": "Python 3",
   "language": "python",
   "name": "python3"
  },
  "language_info": {
   "codemirror_mode": {
    "name": "ipython",
    "version": 3
   },
   "file_extension": ".py",
   "mimetype": "text/x-python",
   "name": "python",
   "nbconvert_exporter": "python",
   "pygments_lexer": "ipython3",
   "version": "3.9.4"
  },
  "metadata": {
   "interpreter": {
    "hash": "2db524e06e9f5f4ffedc911c917cb75e12dbc923643829bf417064a77eb14d37"
   }
  }
 },
 "nbformat": 4,
 "nbformat_minor": 5
}