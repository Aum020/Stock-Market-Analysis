{
 "cells": [
  {
   "cell_type": "code",
   "execution_count": 1,
   "metadata": {},
   "outputs": [],
   "source": [
    "#Description: This stock optimizes the stock portfolio\n",
    "\n",
    "#import the python libraries\n",
    "import pandas as pd\n",
    "import numpy as np\n",
    "import requests\n",
    "\n"
   ]
  },
  {
   "cell_type": "code",
   "execution_count": 2,
   "metadata": {},
   "outputs": [],
   "source": [
    "#Store the Data\n",
    "df=pd.read_csv('/home/aum/Downloads/portfolio(ETF).csv')\n",
    "\n",
    "#Set the date as Index\n",
    "df=df.set_index(pd.DatetimeIndex(df['Date'].values))\n",
    "\n",
    "#Remove the Date Coloumn\n",
    "df.drop(columns=['Date'],axis=1,inplace=True)\n",
    "\n"
   ]
  },
  {
   "cell_type": "code",
   "execution_count": 3,
   "metadata": {},
   "outputs": [],
   "source": [
    "#Set the assets/tickers\n",
    "assets=df.columns"
   ]
  },
  {
   "cell_type": "code",
   "execution_count": 4,
   "metadata": {},
   "outputs": [],
   "source": [
    "#Optimize the Portfolio\n",
    "from pypfopt.efficient_frontier import EfficientFrontier\n",
    "from pypfopt import risk_models\n",
    "from pypfopt import expected_returns\n",
    "\n",
    "\n"
   ]
  },
  {
   "cell_type": "code",
   "execution_count": 5,
   "metadata": {},
   "outputs": [],
   "source": [
    "#Calculate the expected annualized returns and the annualized sample covariance matrix of the daily asset returns\n",
    "mu=expected_returns.mean_historical_return(df)\n",
    "S=risk_models.sample_cov(df)\n"
   ]
  },
  {
   "cell_type": "code",
   "execution_count": 6,
   "metadata": {},
   "outputs": [
    {
     "name": "stdout",
     "output_type": "stream",
     "text": [
      "OrderedDict([('Reliance', 0.28958), ('Kotak Bank', 0.0), ('HDFC Bank', 0.04773), ('Baj Finance', 0.30598), ('TITAN', 0.21692), ('L & T', 0.0), ('TATA Motors', 0.0), ('Britannia', 0.01346), ('Asian Paint', 0.12634)])\n",
      "Expected annual return: 38.0%\n",
      "Annual volatility: 24.3%\n",
      "Sharpe Ratio: 1.48\n"
     ]
    },
    {
     "data": {
      "text/plain": [
       "(0.38015230162020563, 0.24314958204670212, 1.4811964659311263)"
      ]
     },
     "execution_count": 6,
     "metadata": {},
     "output_type": "execute_result"
    }
   ],
   "source": [
    "#Optimize for the maximal Sharpe Ratio\n",
    "ef=EfficientFrontier(mu,S)  #Create the Efficient Frontier Object\n",
    "weights=ef.max_sharpe()\n",
    "\n",
    "cleaned_weights=ef.clean_weights()\n",
    "print(cleaned_weights)\n",
    "ef.portfolio_performance(verbose=True)\n",
    "\n",
    "\n"
   ]
  },
  {
   "cell_type": "code",
   "execution_count": 7,
   "metadata": {},
   "outputs": [
    {
     "name": "stdout",
     "output_type": "stream",
     "text": [
      "Discrete allocation:  {'Reliance': 137855, 'HDFC Bank': 31564, 'Baj Finance': 56081, 'TITAN': 144521, 'TATA Motors': 1, 'Britannia': 3857, 'Asian Paint': 51179}\n",
      "Funds Remaining: $ 75.93486797809601\n"
     ]
    }
   ],
   "source": [
    "#Get the dicrete Allocation of each share per stock\n",
    "from pypfopt.discrete_allocation import DiscreteAllocation, get_latest_prices\n",
    "portfolio_val= 1000000000\n",
    "latest_prices=get_latest_prices(df)\n",
    "weights=cleaned_weights\n",
    "da=DiscreteAllocation(weights,latest_prices,total_portfolio_value=portfolio_val)\n",
    "\n",
    "allocation , leftover=da.lp_portfolio()\n",
    "print('Discrete allocation: ',allocation)\n",
    "print('Funds Remaining: $',leftover)"
   ]
  },
  {
   "cell_type": "code",
   "execution_count": 8,
   "metadata": {},
   "outputs": [],
   "source": [
    "#Create a function to get the companies name\n",
    "def get_Company_Name(symbol):\n",
    "    url='http://d.yimg.com/autoc.finance.yahoo.com/autoc?query='+symbol+'&region=1&lang=en'\n",
    "    result=requests.get(url).json()\n",
    "    for r in result['ResultSet']['Result']:\n",
    "        if r['symbol']==symbol:\n",
    "            return r['name']\n",
    "            \n"
   ]
  },
  {
   "cell_type": "code",
   "execution_count": 9,
   "metadata": {},
   "outputs": [],
   "source": [
    "#Store the Company name into a list\n",
    "company_name=[]\n",
    "for symbol in allocation:\n",
    "    company_name.append(get_Company_Name(symbol))\n",
    "    "
   ]
  },
  {
   "cell_type": "code",
   "execution_count": 10,
   "metadata": {},
   "outputs": [],
   "source": [
    "#Get the discrete Allocation Values\n",
    "discrete_allocation_list=[]\n",
    "for symbol in allocation:\n",
    "    discrete_allocation_list.append(allocation.get(symbol))\n",
    "    "
   ]
  },
  {
   "cell_type": "code",
   "execution_count": 11,
   "metadata": {},
   "outputs": [],
   "source": [
    "#Create a DataFrame for the portfolio\n",
    "portfolio_df=pd.DataFrame(columns=['Company_Ticker'])\n"
   ]
  },
  {
   "cell_type": "code",
   "execution_count": 12,
   "metadata": {},
   "outputs": [],
   "source": [
    "\n",
    "portfolio_df['Company_Ticker']=allocation\n",
    "portfolio_df['Discrete_Val'+str(portfolio_val)]=discrete_allocation_list\n"
   ]
  },
  {
   "cell_type": "code",
   "execution_count": 13,
   "metadata": {},
   "outputs": [
    {
     "data": {
      "text/html": [
       "<div>\n",
       "<style scoped>\n",
       "    .dataframe tbody tr th:only-of-type {\n",
       "        vertical-align: middle;\n",
       "    }\n",
       "\n",
       "    .dataframe tbody tr th {\n",
       "        vertical-align: top;\n",
       "    }\n",
       "\n",
       "    .dataframe thead th {\n",
       "        text-align: right;\n",
       "    }\n",
       "</style>\n",
       "<table border=\"1\" class=\"dataframe\">\n",
       "  <thead>\n",
       "    <tr style=\"text-align: right;\">\n",
       "      <th></th>\n",
       "      <th>Company_Ticker</th>\n",
       "      <th>Discrete_Val1000000000</th>\n",
       "    </tr>\n",
       "  </thead>\n",
       "  <tbody>\n",
       "    <tr>\n",
       "      <th>Reliance</th>\n",
       "      <td>Reliance</td>\n",
       "      <td>137855</td>\n",
       "    </tr>\n",
       "    <tr>\n",
       "      <th>HDFC Bank</th>\n",
       "      <td>HDFC Bank</td>\n",
       "      <td>31564</td>\n",
       "    </tr>\n",
       "    <tr>\n",
       "      <th>Baj Finance</th>\n",
       "      <td>Baj Finance</td>\n",
       "      <td>56081</td>\n",
       "    </tr>\n",
       "    <tr>\n",
       "      <th>TITAN</th>\n",
       "      <td>TITAN</td>\n",
       "      <td>144521</td>\n",
       "    </tr>\n",
       "    <tr>\n",
       "      <th>TATA Motors</th>\n",
       "      <td>TATA Motors</td>\n",
       "      <td>1</td>\n",
       "    </tr>\n",
       "    <tr>\n",
       "      <th>Britannia</th>\n",
       "      <td>Britannia</td>\n",
       "      <td>3857</td>\n",
       "    </tr>\n",
       "    <tr>\n",
       "      <th>Asian Paint</th>\n",
       "      <td>Asian Paint</td>\n",
       "      <td>51179</td>\n",
       "    </tr>\n",
       "  </tbody>\n",
       "</table>\n",
       "</div>"
      ],
      "text/plain": [
       "            Company_Ticker  Discrete_Val1000000000\n",
       "Reliance          Reliance                  137855\n",
       "HDFC Bank        HDFC Bank                   31564\n",
       "Baj Finance    Baj Finance                   56081\n",
       "TITAN                TITAN                  144521\n",
       "TATA Motors    TATA Motors                       1\n",
       "Britannia        Britannia                    3857\n",
       "Asian Paint    Asian Paint                   51179"
      ]
     },
     "execution_count": 13,
     "metadata": {},
     "output_type": "execute_result"
    }
   ],
   "source": [
    "#Show the portfolio\n",
    "portfolio_df"
   ]
  },
  {
   "cell_type": "code",
   "execution_count": null,
   "metadata": {},
   "outputs": [],
   "source": []
  }
 ],
 "metadata": {
  "kernelspec": {
   "display_name": "Python 3",
   "language": "python",
   "name": "python3"
  },
  "language_info": {
   "codemirror_mode": {
    "name": "ipython",
    "version": 3
   },
   "file_extension": ".py",
   "mimetype": "text/x-python",
   "name": "python",
   "nbconvert_exporter": "python",
   "pygments_lexer": "ipython3",
   "version": "3.8.6"
  }
 },
 "nbformat": 4,
 "nbformat_minor": 2
}
