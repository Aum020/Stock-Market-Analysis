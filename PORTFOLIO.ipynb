{
 "metadata": {
  "language_info": {
   "codemirror_mode": {
    "name": "ipython",
    "version": 3
   },
   "file_extension": ".py",
   "mimetype": "text/x-python",
   "name": "python",
   "nbconvert_exporter": "python",
   "pygments_lexer": "ipython3",
   "version": "3.9.1-final"
  },
  "orig_nbformat": 2,
  "kernelspec": {
   "name": "python3",
   "display_name": "Python 3.9.1 64-bit ('Yash': conda)",
   "metadata": {
    "interpreter": {
     "hash": "34a50ad99925147400152ade1896dafd6e7b988585c0bd8bc490102349075ee2"
    }
   }
  }
 },
 "nbformat": 4,
 "nbformat_minor": 2,
 "cells": [
  {
   "cell_type": "code",
   "execution_count": 1,
   "metadata": {},
   "outputs": [],
   "source": [
    "#Description: This stock optimizes the stock portfolio\n",
    "\n",
    "#import the python libraries\n",
    "import pandas as pd\n",
    "import numpy as np\n",
    "import requests\n",
    "\n"
   ]
  },
  {
   "cell_type": "code",
   "execution_count": 2,
   "metadata": {},
   "outputs": [],
   "source": [
    "#Store the Data\n",
    "df=pd.read_csv('portfolio(ETF).csv')\n",
    "\n",
    "#Set the date as Index\n",
    "df=df.set_index(pd.DatetimeIndex(df['Date'].values))\n",
    "\n",
    "#Remove the Date Coloumn\n",
    "df.drop(columns=['Date'],axis=1,inplace=True)\n",
    "\n"
   ]
  },
  {
   "cell_type": "code",
   "execution_count": 3,
   "metadata": {},
   "outputs": [],
   "source": [
    "#Set the assets/tickers\n",
    "assets=df.columns"
   ]
  },
  {
   "cell_type": "code",
   "execution_count": 2,
   "metadata": {},
   "outputs": [
    {
     "output_type": "stream",
     "name": "stdout",
     "text": [
      "Collecting PyPortfolioOpt\n",
      "  Downloading PyPortfolioOpt-1.4.1-py3-none-any.whl (56 kB)\n",
      "Requirement already satisfied: pandas>=0.19 in c:\\users\\asus\\anaconda3\\envs\\yash\\lib\\site-packages (from PyPortfolioOpt) (1.2.2)\n",
      "Collecting cvxpy<2.0.0,>=1.1.10\n",
      "  Downloading cvxpy-1.1.11-cp39-cp39-win_amd64.whl (822 kB)\n",
      "    ERROR: Command errored out with exit status 1:\n",
      "     command: 'C:\\Users\\asus\\anaconda3\\envs\\Yash\\python.exe' -c 'import sys, setuptools, tokenize; sys.argv[0] = '\"'\"'C:\\\\Users\\\\asus\\\\AppData\\\\Local\\\\Temp\\\\pip-install-b88ks243\\\\ecos_5f6ef004932b470cbd5adbba09dad2a6\\\\setup.py'\"'\"'; __file__='\"'\"'C:\\\\Users\\\\asus\\\\AppData\\\\Local\\\\Temp\\\\pip-install-b88ks243\\\\ecos_5f6ef004932b470cbd5adbba09dad2a6\\\\setup.py'\"'\"';f=getattr(tokenize, '\"'\"'open'\"'\"', open)(__file__);code=f.read().replace('\"'\"'\\r\\n'\"'\"', '\"'\"'\\n'\"'\"');f.close();exec(compile(code, __file__, '\"'\"'exec'\"'\"'))' egg_info --egg-base 'C:\\Users\\asus\\AppData\\Local\\Temp\\pip-pip-egg-info-0w4jcyh2'\n",
      "         cwd: C:\\Users\\asus\\AppData\\Local\\Temp\\pip-install-b88ks243\\ecos_5f6ef004932b470cbd5adbba09dad2a6\\\n",
      "    Complete output (76 lines):\n",
      "    running egg_info\n",
      "    creating C:\\Users\\asus\\AppData\\Local\\Temp\\pip-pip-egg-info-0w4jcyh2\\ecos.egg-info\n",
      "    writing C:\\Users\\asus\\AppData\\Local\\Temp\\pip-pip-egg-info-0w4jcyh2\\ecos.egg-info\\PKG-INFO\n",
      "    writing dependency_links to C:\\Users\\asus\\AppData\\Local\\Temp\\pip-pip-egg-info-0w4jcyh2\\ecos.egg-info\\dependency_links.txt\n",
      "    writing requirements to C:\\Users\\asus\\AppData\\Local\\Temp\\pip-pip-egg-info-0w4jcyh2\\ecos.egg-info\\requires.txt\n",
      "    writing top-level names to C:\\Users\\asus\\AppData\\Local\\Temp\\pip-pip-egg-info-0w4jcyh2\\ecos.egg-info\\top_level.txt\n",
      "    writing manifest file 'C:\\Users\\asus\\AppData\\Local\\Temp\\pip-pip-egg-info-0w4jcyh2\\ecos.egg-info\\SOURCES.txt'\n",
      "    C:\\Users\\asus\\anaconda3\\envs\\Yash\\lib\\site-packages\\numpy\\__init__.py:138: UserWarning: mkl-service package failed to import, therefore Intel(R) MKL initialization ensuring its correct out-of-the box operation under condition when Gnu OpenMP had already been loaded by Python process is not assured. Please install mkl-service package, see http://github.com/IntelPython/mkl-service\n",
      "      from . import _distributor_init\n",
      "    Traceback (most recent call last):\n",
      "      File \"C:\\Users\\asus\\anaconda3\\envs\\Yash\\lib\\site-packages\\numpy\\core\\__init__.py\", line 22, in <module>\n",
      "        from . import multiarray\n",
      "      File \"C:\\Users\\asus\\anaconda3\\envs\\Yash\\lib\\site-packages\\numpy\\core\\multiarray.py\", line 12, in <module>\n",
      "        from . import overrides\n",
      "      File \"C:\\Users\\asus\\anaconda3\\envs\\Yash\\lib\\site-packages\\numpy\\core\\overrides.py\", line 7, in <module>\n",
      "        from numpy.core._multiarray_umath import (\n",
      "    ImportError: DLL load failed while importing _multiarray_umath: The specified module could not be found.\n",
      "    \n",
      "    During handling of the above exception, another exception occurred:\n",
      "    \n",
      "    Traceback (most recent call last):\n",
      "      File \"<string>\", line 1, in <module>\n",
      "      File \"C:\\Users\\asus\\AppData\\Local\\Temp\\pip-install-b88ks243\\ecos_5f6ef004932b470cbd5adbba09dad2a6\\setup.py\", line 73, in <module>\n",
      "        setup(\n",
      "      File \"C:\\Users\\asus\\anaconda3\\envs\\Yash\\lib\\site-packages\\setuptools\\__init__.py\", line 153, in setup\n",
      "        return distutils.core.setup(**attrs)\n",
      "      File \"C:\\Users\\asus\\anaconda3\\envs\\Yash\\lib\\distutils\\core.py\", line 148, in setup\n",
      "        dist.run_commands()\n",
      "      File \"C:\\Users\\asus\\anaconda3\\envs\\Yash\\lib\\distutils\\dist.py\", line 966, in run_commands\n",
      "        self.run_command(cmd)\n",
      "      File \"C:\\Users\\asus\\anaconda3\\envs\\Yash\\lib\\distutils\\dist.py\", line 985, in run_command\n",
      "        cmd_obj.run()\n",
      "      File \"C:\\Users\\asus\\anaconda3\\envs\\Yash\\lib\\site-packages\\setuptools\\command\\egg_info.py\", line 299, in run\n",
      "        self.find_sources()\n",
      "      File \"C:\\Users\\asus\\anaconda3\\envs\\Yash\\lib\\site-packages\\setuptools\\command\\egg_info.py\", line 306, in find_sources\n",
      "        mm.run()\n",
      "      File \"C:\\Users\\asus\\anaconda3\\envs\\Yash\\lib\\site-packages\\setuptools\\command\\egg_info.py\", line 541, in run\n",
      "        self.add_defaults()\n",
      "      File \"C:\\Users\\asus\\anaconda3\\envs\\Yash\\lib\\site-packages\\setuptools\\command\\egg_info.py\", line 577, in add_defaults\n",
      "        sdist.add_defaults(self)\n",
      "      File \"C:\\Users\\asus\\anaconda3\\envs\\Yash\\lib\\distutils\\command\\sdist.py\", line 228, in add_defaults\n",
      "        self._add_defaults_ext()\n",
      "      File \"C:\\Users\\asus\\anaconda3\\envs\\Yash\\lib\\distutils\\command\\sdist.py\", line 311, in _add_defaults_ext\n",
      "        build_ext = self.get_finalized_command('build_ext')\n",
      "      File \"C:\\Users\\asus\\anaconda3\\envs\\Yash\\lib\\distutils\\cmd.py\", line 299, in get_finalized_command\n",
      "        cmd_obj.ensure_finalized()\n",
      "      File \"C:\\Users\\asus\\anaconda3\\envs\\Yash\\lib\\distutils\\cmd.py\", line 107, in ensure_finalized\n",
      "        self.finalize_options()\n",
      "      File \"C:\\Users\\asus\\AppData\\Local\\Temp\\pip-install-b88ks243\\ecos_5f6ef004932b470cbd5adbba09dad2a6\\setup.py\", line 60, in finalize_options\n",
      "        import numpy\n",
      "      File \"C:\\Users\\asus\\anaconda3\\envs\\Yash\\lib\\site-packages\\numpy\\__init__.py\", line 140, in <module>\n",
      "        from . import core\n",
      "      File \"C:\\Users\\asus\\anaconda3\\envs\\Yash\\lib\\site-packages\\numpy\\core\\__init__.py\", line 48, in <module>\n",
      "        raise ImportError(msg)\n",
      "    ImportError:\n",
      "    \n",
      "    IMPORTANT: PLEASE READ THIS FOR ADVICE ON HOW TO SOLVE THIS ISSUE!\n",
      "    Collecting scipy<2.0,>=1.3\n",
      "  Downloading scipy-1.6.1-cp39-cp39-win_amd64.whl (32.7 MB)\n",
      "Requirement already satisfied: numpy<2.0,>=1.12 in c:\\users\\asus\\anaconda3\\envs\\yash\\lib\\site-packages (from PyPortfolioOpt) (1.20.1)\n",
      "Collecting osqp>=0.4.1\n",
      "  Downloading osqp-0.6.2.post0-cp39-cp39-win_amd64.whl (162 kB)\n",
      "Collecting ecos>=2\n",
      "  Downloading ecos-2.0.7.post1.tar.gz (126 kB)\n",
      "  Downloading ecos-2.0.5.tar.gz (114 kB)\n",
      "  Downloading ecos-2.0.4.tar.gz (113 kB)\n",
      "  Downloading ecos-2.0.3.tar.gz (114 kB)\n",
      "  Downloading ecos-2.0.2.tar.gz (114 kB)\n",
      "  Downloading ecos-2.0.1.tar.gz (114 kB)\n",
      "  Downloading ecos-2.0.0.tar.gz (114 kB)\n",
      "Collecting cvxpy<2.0.0,>=1.1.10\n",
      "  Downloading cvxpy-1.1.10-cp39-cp39-win_amd64.whl (825 kB)\n",
      "INFO: pip is looking at multiple versions of <Python from Requires-Python> to determine which version is compatible with other requirements. This could take a while.\n",
      "INFO: pip is looking at multiple versions of pyportfolioopt to determine which version is compatible with other requirements. This could take a while.\n",
      "Collecting PyPortfolioOpt\n",
      "  Downloading PyPortfolioOpt-1.4.0-py3-none-any.whl (52 kB)\n",
      "  Downloading PyPortfolioOpt-1.3.1-py3-none-any.whl (53 kB)\n",
      "  Downloading PyPortfolioOpt-1.3.0-py3-none-any.whl (52 kB)\n",
      "  Downloading PyPortfolioOpt-1.2.7-py3-none-any.whl (48 kB)\n",
      "  Downloading PyPortfolioOpt-1.2.6-py3-none-any.whl (48 kB)\n",
      "  Downloading PyPortfolioOpt-1.2.5-py3-none-any.whl (48 kB)\n",
      "  Downloading PyPortfolioOpt-1.2.4-py3-none-any.whl (48 kB)\n",
      "  Downloading PyPortfolioOpt-1.2.3-py3-none-any.whl (48 kB)\n",
      "  Downloading PyPortfolioOpt-1.2.2-py3-none-any.whl (49 kB)\n",
      "  Downloading PyPortfolioOpt-1.2.1-py3-none-any.whl (49 kB)\n",
      "  Downloading PyPortfolioOpt-1.2.0-py3-none-any.whl (48 kB)\n",
      "  Downloading PyPortfolioOpt-1.1.0-py3-none-any.whl (46 kB)\n",
      "  Downloading PyPortfolioOpt-1.0.2-py3-none-any.whl (41 kB)\n",
      "  Downloading PyPortfolioOpt-1.0.1-py3-none-any.whl (41 kB)\n",
      "  Downloading PyPortfolioOpt-1.0.0-py3-none-any.whl (41 kB)\n",
      "  Downloading PyPortfolioOpt-0.5.5-py3-none-any.whl (38 kB)\n",
      "  Downloading PyPortfolioOpt-0.5.4-py3-none-any.whl (37 kB)\n",
      "  Downloading PyPortfolioOpt-0.5.3-py3-none-any.whl (37 kB)\n",
      "  Downloading PyPortfolioOpt-0.5.2-py3-none-any.whl (37 kB)\n",
      "  Downloading PyPortfolioOpt-0.5.1-py3-none-any.whl (37 kB)\n",
      "  Downloading PyPortfolioOpt-0.5.0-py3-none-any.whl (37 kB)\n",
      "  Downloading PyPortfolioOpt-0.4.3-py3-none-any.whl (30 kB)\n",
      "  Downloading PyPortfolioOpt-0.4.2-py3-none-any.whl (30 kB)\n",
      "  Downloading PyPortfolioOpt-0.4.1-py3-none-any.whl (29 kB)\n",
      "  Downloading PyPortfolioOpt-0.4.0-py3-none-any.whl (25 kB)\n",
      "  Downloading PyPortfolioOpt-0.3.3-py3-none-any.whl (28 kB)\n",
      "  Downloading PyPortfolioOpt-0.3.2-py3-none-any.whl (28 kB)\n",
      "  Downloading PyPortfolioOpt-0.3.1-py3-none-any.whl (29 kB)\n",
      "  Downloading PyPortfolioOpt-0.3.0-py3-none-any.whl (28 kB)\n",
      "  Downloading PyPortfolioOpt-0.2.0-py3-none-any.whl (21 kB)\n",
      "  Downloading PyPortfolioOpt-0.1.1-py3-none-any.whl (16 kB)\n",
      "  Downloading PyPortfolioOpt-0.1.0-py3-none-any.whl (16 kB)\n",
      "Collecting cvxopt!=1.2.5.post1,<2.0,>=1.2\n",
      "  Downloading cvxopt-1.2.6-cp39-cp39-win_amd64.whl (9.5 MB)\n",
      "INFO: pip is looking at multiple versions of cvxopt to determine which version is compatible with other requirements. This could take a while.\n",
      "  Downloading cvxopt-1.2.5.tar.gz (6.7 MB)\n",
      "  Downloading cvxopt-1.2.4.tar.gz (6.7 MB)\n",
      "  Downloading cvxopt-1.2.3.tar.gz (1.9 MB)\n",
      "  Downloading cvxopt-1.2.2.tar.gz (1.9 MB)\n",
      "  Downloading cvxopt-1.2.1.tar.gz (1.9 MB)\n",
      "  Downloading cvxopt-1.2.0.tar.gz (1.9 MB)\n",
      "Collecting cvxpy<2.0,>=1.0\n",
      "  Downloading cvxpy-1.1.9-cp39-cp39-win_amd64.whl (825 kB)\n",
      "  Downloading cvxpy-1.1.8-cp39-cp39-win_amd64.whl (825 kB)\n",
      "  Downloading cvxpy-1.1.7-cp39-cp39-win_amd64.whl (817 kB)\n",
      "  Downloading cvxpy-1.1.6.tar.gz (1.0 MB)\n",
      "  Installing build dependencies: started\n",
      "  Installing build dependencies: finished with status 'done'\n",
      "  Getting requirements to build wheel: started\n",
      "  Getting requirements to build wheel: finished with status 'done'\n",
      "    Preparing wheel metadata: started\n",
      "    Preparing wheel metadata: finished with status 'done'\n",
      "  Downloading cvxpy-1.1.5.tar.gz (997 kB)\n",
      "  Installing build dependencies: started\n",
      "  Installing build dependencies: finished with status 'done'\n",
      "  Getting requirements to build wheel: started\n",
      "  Getting requirements to build wheel: finished with status 'done'\n",
      "    Preparing wheel metadata: started\n",
      "\n",
      "    Importing the numpy C-extensions failed. This error can happen for\n",
      "    many reasons, often due to issues with your setup or how NumPy was\n",
      "    installed.\n",
      "    \n",
      "    We have compiled some common reasons and troubleshooting tips at:\n",
      "    \n",
      "        https://numpy.org/devdocs/user/troubleshooting-importerror.html\n",
      "    \n",
      "    Please note and check the following:\n",
      "    \n",
      "      * The Python version is: Python3.9 from \"C:\\Users\\asus\\anaconda3\\envs\\Yash\\python.exe\"\n",
      "      * The NumPy version is: \"1.19.2\"\n",
      "    \n",
      "    and make sure that they are the versions you expect.\n",
      "    Please carefully study the documentation linked above for further help.\n",
      "    \n",
      "    Original error was: DLL load failed while importing _multiarray_umath: The specified module could not be found.\n",
      "    \n",
      "    ----------------------------------------\n",
      "WARNING: Discarding https://files.pythonhosted.org/packages/b9/3a/59aa93b573a22fda44402383aeddcc2a081c31e61080af3da9d11855c77a/ecos-2.0.7.post1.tar.gz#sha256=83e90f42b3f32e2a93f255c3cfad2da78dbd859119e93844c45d2fca20bdc758 (from https://pypi.org/simple/ecos/). Command errored out with exit status 1: python setup.py egg_info Check the logs for full command output.\n",
      "    ERROR: Command errored out with exit status 1:\n",
      "     command: 'C:\\Users\\asus\\anaconda3\\envs\\Yash\\python.exe' -c 'import sys, setuptools, tokenize; sys.argv[0] = '\"'\"'C:\\\\Users\\\\asus\\\\AppData\\\\Local\\\\Temp\\\\pip-install-b88ks243\\\\ecos_33c428186e2e46f9b700ab5e4e6d7c0f\\\\setup.py'\"'\"'; __file__='\"'\"'C:\\\\Users\\\\asus\\\\AppData\\\\Local\\\\Temp\\\\pip-install-b88ks243\\\\ecos_33c428186e2e46f9b700ab5e4e6d7c0f\\\\setup.py'\"'\"';f=getattr(tokenize, '\"'\"'open'\"'\"', open)(__file__);code=f.read().replace('\"'\"'\\r\\n'\"'\"', '\"'\"'\\n'\"'\"');f.close();exec(compile(code, __file__, '\"'\"'exec'\"'\"'))' egg_info --egg-base 'C:\\Users\\asus\\AppData\\Local\\Temp\\pip-pip-egg-info-_abhle2b'\n",
      "         cwd: C:\\Users\\asus\\AppData\\Local\\Temp\\pip-install-b88ks243\\ecos_33c428186e2e46f9b700ab5e4e6d7c0f\\\n",
      "    Complete output (43 lines):\n",
      "    C:\\Users\\asus\\anaconda3\\envs\\Yash\\lib\\site-packages\\numpy\\__init__.py:138: UserWarning: mkl-service package failed to import, therefore Intel(R) MKL initialization ensuring its correct out-of-the box operation under condition when Gnu OpenMP had already been loaded by Python process is not assured. Please install mkl-service package, see http://github.com/IntelPython/mkl-service\n",
      "      from . import _distributor_init\n",
      "    Traceback (most recent call last):\n",
      "      File \"C:\\Users\\asus\\anaconda3\\envs\\Yash\\lib\\site-packages\\numpy\\core\\__init__.py\", line 22, in <module>\n",
      "        from . import multiarray\n",
      "      File \"C:\\Users\\asus\\anaconda3\\envs\\Yash\\lib\\site-packages\\numpy\\core\\multiarray.py\", line 12, in <module>\n",
      "        from . import overrides\n",
      "      File \"C:\\Users\\asus\\anaconda3\\envs\\Yash\\lib\\site-packages\\numpy\\core\\overrides.py\", line 7, in <module>\n",
      "        from numpy.core._multiarray_umath import (\n",
      "    ImportError: DLL load failed while importing _multiarray_umath: The specified module could not be found.\n",
      "    \n",
      "    During handling of the above exception, another exception occurred:\n",
      "    \n",
      "    Traceback (most recent call last):\n",
      "      File \"<string>\", line 1, in <module>\n",
      "      File \"C:\\Users\\asus\\AppData\\Local\\Temp\\pip-install-b88ks243\\ecos_33c428186e2e46f9b700ab5e4e6d7c0f\\setup.py\", line 10, in <module>\n",
      "        import numpy\n",
      "      File \"C:\\Users\\asus\\anaconda3\\envs\\Yash\\lib\\site-packages\\numpy\\__init__.py\", line 140, in <module>\n",
      "        from . import core\n",
      "      File \"C:\\Users\\asus\\anaconda3\\envs\\Yash\\lib\\site-packages\\numpy\\core\\__init__.py\", line 48, in <module>\n",
      "        raise ImportError(msg)\n",
      "    ImportError:\n",
      "    \n",
      "    IMPORTANT: PLEASE READ THIS FOR ADVICE ON HOW TO SOLVE THIS ISSUE!\n",
      "    \n",
      "    Importing the numpy C-extensions failed. This error can happen for\n",
      "    many reasons, often due to issues with your setup or how NumPy was\n",
      "    installed.\n",
      "    \n",
      "    We have compiled some common reasons and troubleshooting tips at:\n",
      "    \n",
      "        https://numpy.org/devdocs/user/troubleshooting-importerror.html\n",
      "    \n",
      "    Please note and check the following:\n",
      "    \n",
      "      * The Python version is: Python3.9 from \"C:\\Users\\asus\\anaconda3\\envs\\Yash\\python.exe\"\n",
      "      * The NumPy version is: \"1.19.2\"\n"
     ]
    }
   ],
   "source": [
    "!pip install PyPortfolioOpt"
   ]
  },
  {
   "cell_type": "code",
   "execution_count": null,
   "metadata": {},
   "outputs": [],
   "source": [
    "#Optimize the Portfolio\n",
    "from pypfopt.efficient_frontier import EfficientFrontier\n",
    "from pypfopt import risk_models\n",
    "from pypfopt import expected_returns\n",
    "\n",
    "\n"
   ]
  },
  {
   "cell_type": "code",
   "execution_count": null,
   "metadata": {},
   "outputs": [],
   "source": [
    "#Calculate the expected annualized returns and the annualized sample covariance matrix of the daily asset returns\n",
    "mu=expected_returns.mean_historical_return(df)\n",
    "S=risk_models.sample_cov(df)\n"
   ]
  },
  {
   "cell_type": "code",
   "execution_count": null,
   "metadata": {},
   "outputs": [],
   "source": [
    "#Optimize for the maximal Sharpe Ratio\n",
    "ef=EfficientFrontier(mu,S)  #Create the Efficient Frontier Object\n",
    "weights=ef.max_sharpe()\n",
    "\n",
    "cleaned_weights=ef.clean_weights()\n",
    "print(cleaned_weights)\n",
    "ef.portfolio_performance(verbose=True)\n",
    "\n",
    "\n"
   ]
  },
  {
   "cell_type": "code",
   "execution_count": 3,
   "metadata": {},
   "outputs": [
    {
     "output_type": "stream",
     "name": "stdout",
     "text": [
      "Collecting pulp  WARNING: The script pulptest.exe is installed in 'C:\\Users\\asus\\anaconda3\\envs\\Yash\\Scripts' which is not on PATH.\n",
      "  Consider adding this directory to PATH or, if you prefer to suppress this warning, use --no-warn-script-location.\n",
      "\n",
      "  Downloading PuLP-2.4-py3-none-any.whl (40.6 MB)\n",
      "Collecting amply>=0.1.2\n",
      "  Downloading amply-0.1.4-py3-none-any.whl (16 kB)\n",
      "Requirement already satisfied: pyparsing in c:\\users\\asus\\anaconda3\\envs\\yash\\lib\\site-packages (from amply>=0.1.2->pulp) (2.4.7)\n",
      "Collecting docutils>=0.3\n",
      "  Downloading docutils-0.16-py2.py3-none-any.whl (548 kB)\n",
      "Installing collected packages: docutils, amply, pulp\n",
      "Successfully installed amply-0.1.4 docutils-0.16 pulp-2.4\n"
     ]
    }
   ],
   "source": [
    "!pip install pulp"
   ]
  },
  {
   "cell_type": "code",
   "execution_count": null,
   "metadata": {},
   "outputs": [],
   "source": [
    "#Get the dicrete Allocation of each share per stock\n",
    "from pypfopt.discrete_allocation import DiscreteAllocation, get_latest_prices\n",
    "portfolio_val= 5000\n",
    "latest_prices=get_latest_prices(df)\n",
    "weights=cleaned_weights\n",
    "da=DiscreteAllocation(weights,latest_prices,total_portfolio_value=portfolio_val)\n",
    "\n",
    "allocation , leftover=da.lp_portfolio()\n",
    "print('Discrete allocation: ',allocation)\n",
    "print('Funds Remaining: $',leftover)\n"
   ]
  },
  {
   "cell_type": "code",
   "execution_count": null,
   "metadata": {},
   "outputs": [],
   "source": [
    "#Create a function to get the companies name\n",
    "def get_Company_Name(symbol):\n",
    "    url='http://d.yimg.com/autoc.finance.yahoo.com/autoc?query='+symbol+'&region=1&lang=en'\n",
    "    result=requests.get(url).json()\n",
    "    for r in result['ResultSet']['Result']:\n",
    "        if r['symbol']==symbol:\n",
    "            return r['name']\n",
    "            \n"
   ]
  },
  {
   "cell_type": "code",
   "execution_count": 4,
   "metadata": {},
   "outputs": [
    {
     "output_type": "error",
     "ename": "NameError",
     "evalue": "name 'allocation' is not defined",
     "traceback": [
      "\u001b[1;31m---------------------------------------------------------------------------\u001b[0m",
      "\u001b[1;31mNameError\u001b[0m                                 Traceback (most recent call last)",
      "\u001b[1;32m<ipython-input-4-75bfb7eb378d>\u001b[0m in \u001b[0;36m<module>\u001b[1;34m\u001b[0m\n\u001b[0;32m      1\u001b[0m \u001b[1;31m#Store the Company name into a list\u001b[0m\u001b[1;33m\u001b[0m\u001b[1;33m\u001b[0m\u001b[1;33m\u001b[0m\u001b[0m\n\u001b[0;32m      2\u001b[0m \u001b[0mcompany_name\u001b[0m\u001b[1;33m=\u001b[0m\u001b[1;33m[\u001b[0m\u001b[1;33m]\u001b[0m\u001b[1;33m\u001b[0m\u001b[1;33m\u001b[0m\u001b[0m\n\u001b[1;32m----> 3\u001b[1;33m \u001b[1;32mfor\u001b[0m \u001b[0msymbol\u001b[0m \u001b[1;32min\u001b[0m \u001b[0mallocation\u001b[0m\u001b[1;33m:\u001b[0m\u001b[1;33m\u001b[0m\u001b[1;33m\u001b[0m\u001b[0m\n\u001b[0m\u001b[0;32m      4\u001b[0m     \u001b[0mcompany_name\u001b[0m\u001b[1;33m.\u001b[0m\u001b[0mappend\u001b[0m\u001b[1;33m(\u001b[0m\u001b[0mget_Company_Name\u001b[0m\u001b[1;33m(\u001b[0m\u001b[0msymbol\u001b[0m\u001b[1;33m)\u001b[0m\u001b[1;33m)\u001b[0m\u001b[1;33m\u001b[0m\u001b[1;33m\u001b[0m\u001b[0m\n\u001b[0;32m      5\u001b[0m \u001b[1;33m\u001b[0m\u001b[0m\n",
      "\u001b[1;31mNameError\u001b[0m: name 'allocation' is not defined"
     ]
    }
   ],
   "source": [
    "#Store the Company name into a list\n",
    "company_name=[]\n",
    "for symbol in allocation:\n",
    "    company_name.append(get_Company_Name(symbol))\n",
    "    "
   ]
  },
  {
   "cell_type": "code",
   "execution_count": null,
   "metadata": {},
   "outputs": [],
   "source": [
    "#Get the discrete Allocation Values\n",
    "discrete_allocation_list=[]\n",
    "for symbol in allocation:\n",
    "    discrete_allocation_list.append(allocation.get(symbol))\n",
    "    "
   ]
  },
  {
   "cell_type": "code",
   "execution_count": null,
   "metadata": {},
   "outputs": [],
   "source": [
    "#Create a DataFrame for the portfolio\n",
    "portfolio_df=pd.DataFrame(columns=['Company_name','Company_Ticker','Discrete_val_'+str(portfolio_val)])\n"
   ]
  },
  {
   "cell_type": "code",
   "execution_count": null,
   "metadata": {},
   "outputs": [],
   "source": [
    "portfolio_df['Comapny_name']=company_name\n",
    "portfolio_df['Company_Ticker']=allocation\n",
    "portfolio_df['Discrete_Val'+str(portfolio_val)]=discrete_allocation_list\n"
   ]
  },
  {
   "cell_type": "code",
   "execution_count": null,
   "metadata": {},
   "outputs": [],
   "source": [
    "#Show the portfolio\n",
    "portfolio_df"
   ]
  }
 ]
}